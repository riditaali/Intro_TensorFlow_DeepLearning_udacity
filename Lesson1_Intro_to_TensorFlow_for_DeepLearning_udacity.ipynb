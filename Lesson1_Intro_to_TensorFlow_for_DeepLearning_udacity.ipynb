{
 "cells": [
  {
   "cell_type": "code",
   "execution_count": null,
   "metadata": {},
   "outputs": [],
   "source": [
    "def HelloWorldXY(x, y):\n",
    "    if (x < 10):\n",
    "        print('Hello World, x was < 10')\n",
    "    elif (x < 20):\n",
    "        print('Hello World, x >= 10 but < 20')\n",
    "    else:\n",
    "        print('Hello World, x was >= 20')\n",
    "    return x + y"
   ]
  }
 ],
 "metadata": {
  "kernelspec": {
   "display_name": "Python 3",
   "language": "python",
   "name": "python3"
  },
  "language_info": {
   "codemirror_mode": {
    "name": "ipython",
    "version": 3
   },
   "file_extension": ".py",
   "mimetype": "text/x-python",
   "name": "python",
   "nbconvert_exporter": "python",
   "pygments_lexer": "ipython3",
   "version": "3.8.5"
  }
 },
 "nbformat": 4,
 "nbformat_minor": 4
}
