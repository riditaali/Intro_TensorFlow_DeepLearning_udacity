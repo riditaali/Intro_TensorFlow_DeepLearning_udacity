{
 "cells": [
  {
   "cell_type": "markdown",
   "id": "smooth-gardening",
   "metadata": {},
   "source": [
    "\"\"\"\n",
    "There are a number of ways in which you might improve the sentiment analysis model we’ve built already:\n",
    "\n",
    "Data and preprocessing-based approaches:\n",
    "More data\n",
    "Adjusting vocabulary size (make sure to consider the overall size of the corpus!)\n",
    "Adjusting sequence length (more or less padding or truncation)\n",
    "Whether to pad or truncate pre or post (usually less of an effect than the others)\n",
    "\n",
    "Model-based approaches:\n",
    "Adjust the number of embedding dimensions\n",
    "Changing use of Flatten vs. GlobalAveragePooling1D\n",
    "Considering other layers like Dropout\n",
    "Adjusting the number of nodes in intermediate fully-connected layers\n",
    "\n",
    "These are just some of the potential things you might tweak to better predict sentiment from text.\n",
    "\"\"\""
   ]
  },
  {
   "cell_type": "markdown",
   "id": "mysterious-valley",
   "metadata": {},
   "source": [
    "###Tweaking the Model"
   ]
  },
  {
   "cell_type": "code",
   "execution_count": 2,
   "id": "considered-naples",
   "metadata": {},
   "outputs": [],
   "source": [
    "#Import TensorFlow and related functions\n",
    "\n",
    "import tensorflow as tf\n",
    "\n",
    "from tensorflow.keras.preprocessing.text import Tokenizer\n",
    "from tensorflow.keras.preprocessing.sequence import pad_sequences"
   ]
  },
  {
   "cell_type": "markdown",
   "id": "super-queensland",
   "metadata": {},
   "source": [
    "###Get the dataset\n",
    "\n",
    "#We'll once again use the dataset containing Amazon and Yelp reviews.\n",
    "\n",
    "!wget --no-check-certificate \\\n",
    "    https://drive.google.com/uc?id=13ySLC_ue6Umt9RJYSeM2t-V0kCv-4C-P \\\n",
    "    -O /tmp/sentiment.csv"
   ]
  },
  {
   "cell_type": "code",
   "execution_count": 3,
   "id": "ceramic-sheffield",
   "metadata": {},
   "outputs": [],
   "source": [
    "import numpy as np\n",
    "import pandas as pd\n",
    "\n",
    "dataset = pd.read_csv('C:/Users/fortn/anaconda3/combined_data.csv')\n",
    "\n",
    "sentences = dataset['text'].tolist()\n",
    "labels = dataset['sentiment'].tolist()\n",
    "\n",
    "# Separate out the sentences and labels into training and test sets\n",
    "training_size = int(len(sentences) * 0.8)\n",
    "\n",
    "training_sentences = sentences[0:training_size]\n",
    "testing_sentences = sentences[training_size:]\n",
    "training_labels = labels[0:training_size]\n",
    "testing_labels = labels[training_size:]\n",
    "\n",
    "# Make labels into numpy arrays for use with the network later\n",
    "training_labels_final = np.array(training_labels)\n",
    "testing_labels_final = np.array(testing_labels)"
   ]
  },
  {
   "cell_type": "markdown",
   "id": "furnished-boston",
   "metadata": {},
   "source": [
    "###Tokenize the dataset (with tweaks!)\n",
    "\n",
    "#Now, we'll tokenize the dataset, but we can make some changes to this from before. Previously, we used:\n",
    "\n",
    "vocab_size = 1000\n",
    "embedding_dim = 16\n",
    "max_length = 100\n",
    "trunc_type='post'\n",
    "padding_type='post'\n",
    "\n",
    "How might changing the vocab_size, embedding_dim or max_length affect how the model performs?"
   ]
  },
  {
   "cell_type": "code",
   "execution_count": 6,
   "id": "hearing-chemical",
   "metadata": {},
   "outputs": [],
   "source": [
    "vocab_size = 500\n",
    "embedding_dim = 16\n",
    "max_length = 50\n",
    "trunc_type='post'\n",
    "padding_type='post'\n",
    "oov_tok = \"<OOV>\"\n",
    "\n",
    "tokenizer = Tokenizer(num_words = vocab_size, oov_token=oov_tok)\n",
    "tokenizer.fit_on_texts(training_sentences)\n",
    "word_index = tokenizer.word_index\n",
    "training_sequences = tokenizer.texts_to_sequences(training_sentences)\n",
    "training_padded = pad_sequences(training_sequences, maxlen=max_length, padding=padding_type, truncating=trunc_type)\n",
    "\n",
    "testing_sequences = tokenizer.texts_to_sequences(testing_sentences)\n",
    "testing_padded = pad_sequences(testing_sequences, maxlen=max_length, padding=padding_type, truncating=trunc_type)"
   ]
  },
  {
   "cell_type": "markdown",
   "id": "fluid-karma",
   "metadata": {},
   "source": [
    "###Train a Sentiment Model (with tweaks!)\n",
    "\n",
    "#We'll use a slightly different model here, using GlobalAveragePooling1D instead of Flatten()."
   ]
  },
  {
   "cell_type": "code",
   "execution_count": 7,
   "id": "boring-clearing",
   "metadata": {},
   "outputs": [
    {
     "name": "stdout",
     "output_type": "stream",
     "text": [
      "Model: \"sequential\"\n",
      "_________________________________________________________________\n",
      "Layer (type)                 Output Shape              Param #   \n",
      "=================================================================\n",
      "embedding (Embedding)        (None, 50, 16)            8000      \n",
      "_________________________________________________________________\n",
      "global_average_pooling1d (Gl (None, 16)                0         \n",
      "_________________________________________________________________\n",
      "dense (Dense)                (None, 6)                 102       \n",
      "_________________________________________________________________\n",
      "dense_1 (Dense)              (None, 1)                 7         \n",
      "=================================================================\n",
      "Total params: 8,109\n",
      "Trainable params: 8,109\n",
      "Non-trainable params: 0\n",
      "_________________________________________________________________\n"
     ]
    }
   ],
   "source": [
    "model = tf.keras.Sequential([\n",
    "    tf.keras.layers.Embedding(vocab_size, embedding_dim, input_length=max_length),\n",
    "    tf.keras.layers.GlobalAveragePooling1D(),\n",
    "    tf.keras.layers.Dense(6, activation='relu'),\n",
    "    tf.keras.layers.Dense(1, activation='sigmoid')\n",
    "])\n",
    "\n",
    "model.compile(loss='binary_crossentropy',optimizer='adam',metrics=['accuracy'])\n",
    "model.summary()"
   ]
  },
  {
   "cell_type": "code",
   "execution_count": 8,
   "id": "available-diesel",
   "metadata": {},
   "outputs": [
    {
     "name": "stdout",
     "output_type": "stream",
     "text": [
      "Epoch 1/30\n",
      "50/50 [==============================] - 2s 12ms/step - loss: 0.6933 - accuracy: 0.4839 - val_loss: 0.6944 - val_accuracy: 0.4110\n",
      "Epoch 2/30\n",
      "50/50 [==============================] - 0s 3ms/step - loss: 0.6919 - accuracy: 0.5354 - val_loss: 0.6933 - val_accuracy: 0.4311\n",
      "Epoch 3/30\n",
      "50/50 [==============================] - 0s 4ms/step - loss: 0.6899 - accuracy: 0.5418 - val_loss: 0.6963 - val_accuracy: 0.4185\n",
      "Epoch 4/30\n",
      "50/50 [==============================] - 0s 3ms/step - loss: 0.6837 - accuracy: 0.5369 - val_loss: 0.6877 - val_accuracy: 0.4887\n",
      "Epoch 5/30\n",
      "50/50 [==============================] - 0s 3ms/step - loss: 0.6743 - accuracy: 0.6797 - val_loss: 0.6860 - val_accuracy: 0.4862\n",
      "Epoch 6/30\n",
      "50/50 [==============================] - 0s 4ms/step - loss: 0.6577 - accuracy: 0.6253 - val_loss: 0.6610 - val_accuracy: 0.5815\n",
      "Epoch 7/30\n",
      "50/50 [==============================] - 0s 3ms/step - loss: 0.6290 - accuracy: 0.7438 - val_loss: 0.6430 - val_accuracy: 0.6140\n",
      "Epoch 8/30\n",
      "50/50 [==============================] - 0s 4ms/step - loss: 0.6031 - accuracy: 0.7464 - val_loss: 0.6227 - val_accuracy: 0.6466\n",
      "Epoch 9/30\n",
      "50/50 [==============================] - 0s 3ms/step - loss: 0.5691 - accuracy: 0.7593 - val_loss: 0.5980 - val_accuracy: 0.6992\n",
      "Epoch 10/30\n",
      "50/50 [==============================] - 0s 3ms/step - loss: 0.5349 - accuracy: 0.8098 - val_loss: 0.5711 - val_accuracy: 0.7469\n",
      "Epoch 11/30\n",
      "50/50 [==============================] - 0s 3ms/step - loss: 0.4966 - accuracy: 0.8301 - val_loss: 0.5440 - val_accuracy: 0.7895\n",
      "Epoch 12/30\n",
      "50/50 [==============================] - 0s 3ms/step - loss: 0.4567 - accuracy: 0.8542 - val_loss: 0.5563 - val_accuracy: 0.7093\n",
      "Epoch 13/30\n",
      "50/50 [==============================] - 0s 3ms/step - loss: 0.4239 - accuracy: 0.8544 - val_loss: 0.5162 - val_accuracy: 0.7820\n",
      "Epoch 14/30\n",
      "50/50 [==============================] - 0s 4ms/step - loss: 0.4110 - accuracy: 0.8544 - val_loss: 0.5088 - val_accuracy: 0.7719\n",
      "Epoch 15/30\n",
      "50/50 [==============================] - 0s 4ms/step - loss: 0.3952 - accuracy: 0.8454 - val_loss: 0.4946 - val_accuracy: 0.7920\n",
      "Epoch 16/30\n",
      "50/50 [==============================] - 0s 4ms/step - loss: 0.3651 - accuracy: 0.8683 - val_loss: 0.4908 - val_accuracy: 0.7794\n",
      "Epoch 17/30\n",
      "50/50 [==============================] - 0s 4ms/step - loss: 0.3451 - accuracy: 0.8842 - val_loss: 0.4897 - val_accuracy: 0.7669\n",
      "Epoch 18/30\n",
      "50/50 [==============================] - 0s 3ms/step - loss: 0.3474 - accuracy: 0.8652 - val_loss: 0.4966 - val_accuracy: 0.7469\n",
      "Epoch 19/30\n",
      "50/50 [==============================] - 0s 3ms/step - loss: 0.3246 - accuracy: 0.8740 - val_loss: 0.4758 - val_accuracy: 0.7845\n",
      "Epoch 20/30\n",
      "50/50 [==============================] - 0s 3ms/step - loss: 0.3059 - accuracy: 0.8872 - val_loss: 0.4964 - val_accuracy: 0.7519\n",
      "Epoch 21/30\n",
      "50/50 [==============================] - 0s 3ms/step - loss: 0.2968 - accuracy: 0.8828 - val_loss: 0.4934 - val_accuracy: 0.7544\n",
      "Epoch 22/30\n",
      "50/50 [==============================] - 0s 3ms/step - loss: 0.2882 - accuracy: 0.8846 - val_loss: 0.4934 - val_accuracy: 0.7494\n",
      "Epoch 23/30\n",
      "50/50 [==============================] - 0s 3ms/step - loss: 0.2792 - accuracy: 0.8933 - val_loss: 0.4798 - val_accuracy: 0.7820\n",
      "Epoch 24/30\n",
      "50/50 [==============================] - 0s 3ms/step - loss: 0.2836 - accuracy: 0.8878 - val_loss: 0.5042 - val_accuracy: 0.7318\n",
      "Epoch 25/30\n",
      "50/50 [==============================] - 0s 3ms/step - loss: 0.2561 - accuracy: 0.9006 - val_loss: 0.5018 - val_accuracy: 0.7419\n",
      "Epoch 26/30\n",
      "50/50 [==============================] - 0s 3ms/step - loss: 0.2699 - accuracy: 0.8917 - val_loss: 0.4970 - val_accuracy: 0.7494\n",
      "Epoch 27/30\n",
      "50/50 [==============================] - 0s 3ms/step - loss: 0.2462 - accuracy: 0.8963 - val_loss: 0.4859 - val_accuracy: 0.7820\n",
      "Epoch 28/30\n",
      "50/50 [==============================] - 0s 3ms/step - loss: 0.2298 - accuracy: 0.9199 - val_loss: 0.5605 - val_accuracy: 0.7068\n",
      "Epoch 29/30\n",
      "50/50 [==============================] - 0s 4ms/step - loss: 0.2420 - accuracy: 0.8956 - val_loss: 0.5138 - val_accuracy: 0.7469\n",
      "Epoch 30/30\n",
      "50/50 [==============================] - 0s 3ms/step - loss: 0.2399 - accuracy: 0.9022 - val_loss: 0.5153 - val_accuracy: 0.7519\n"
     ]
    }
   ],
   "source": [
    "num_epochs = 30\n",
    "history = model.fit(training_padded, training_labels_final, epochs=num_epochs, validation_data=(testing_padded, testing_labels_final))"
   ]
  },
  {
   "cell_type": "markdown",
   "id": "female-fleece",
   "metadata": {},
   "source": [
    "###Visualize the training graph\n",
    "\n",
    "#You can use the code below to visualize the training and validation accuracy while you try out different tweaks to the hyperparameters and model."
   ]
  },
  {
   "cell_type": "code",
   "execution_count": 9,
   "id": "isolated-blues",
   "metadata": {},
   "outputs": [
    {
     "data": {
      "image/png": "[encoded data removed]",
      "text/plain": [
       "<Figure size 432x288 with 1 Axes>"
      ]
     },
     "metadata": {
      "needs_background": "light"
     },
     "output_type": "display_data"
    },
    {
     "data": {
      "image/png": "[encoded data removed]",
      "text/plain": [
       "<Figure size 432x288 with 1 Axes>"
      ]
     },
     "metadata": {
      "needs_background": "light"
     },
     "output_type": "display_data"
    }
   ],
   "source": [
    "import matplotlib.pyplot as plt\n",
    "\n",
    "def plot_graphs(history, string):\n",
    "  plt.plot(history.history[string])\n",
    "  plt.plot(history.history['val_'+string])\n",
    "  plt.xlabel(\"Epochs\")\n",
    "  plt.ylabel(string)\n",
    "  plt.legend([string, 'val_'+string])\n",
    "  plt.show()\n",
    "  \n",
    "plot_graphs(history, \"accuracy\")\n",
    "plot_graphs(history, \"loss\")"
   ]
  },
  {
   "cell_type": "markdown",
   "id": "quantitative-hierarchy",
   "metadata": {},
   "source": [
    "###Get files for visualizing the network\n",
    "\n",
    "#The code below will download two files for visualizing how your network \"sees\" the sentiment related to each word. Head to http://projector.tensorflow.org/ and load these files, then click the checkbox to \"sphereize\" the data.\n",
    "\n",
    "#Note: You may run into errors with the projection if your vocab_size earlier was larger than the actual number of words in the vocabulary, in which case you'll need to decrease this variable and re-train in order to visualize."
   ]
  },
  {
   "cell_type": "code",
   "execution_count": 10,
   "id": "polyphonic-salmon",
   "metadata": {},
   "outputs": [
    {
     "name": "stdout",
     "output_type": "stream",
     "text": [
      "(500, 16)\n"
     ]
    }
   ],
   "source": [
    "# First get the weights of the embedding layer\n",
    "e = model.layers[0]\n",
    "weights = e.get_weights()[0]\n",
    "print(weights.shape) # shape: (vocab_size, embedding_dim)"
   ]
  },
  {
   "cell_type": "code",
   "execution_count": 11,
   "id": "adult-digit",
   "metadata": {},
   "outputs": [],
   "source": [
    "import io\n",
    "\n",
    "# Create the reverse word index\n",
    "reverse_word_index = dict([(value, key) for (key, value) in word_index.items()])\n",
    "\n",
    "# Write out the embedding vectors and metadata\n",
    "out_v = io.open('vecs.tsv', 'w', encoding='utf-8')\n",
    "out_m = io.open('meta.tsv', 'w', encoding='utf-8')\n",
    "for word_num in range(1, vocab_size):\n",
    "  word = reverse_word_index[word_num]\n",
    "  embeddings = weights[word_num]\n",
    "  out_m.write(word + \"\\n\")\n",
    "  out_v.write('\\t'.join([str(x) for x in embeddings]) + \"\\n\")\n",
    "out_v.close()\n",
    "out_m.close()"
   ]
  },
  {
   "cell_type": "code",
   "execution_count": 12,
   "id": "modern-mambo",
   "metadata": {},
   "outputs": [],
   "source": [
    "# Download the files\n",
    "try:\n",
    "  from google.colab import files\n",
    "except ImportError:\n",
    "  pass\n",
    "else:\n",
    "  files.download('vecs.tsv')\n",
    "  files.download('meta.tsv')"
   ]
  },
  {
   "cell_type": "markdown",
   "id": "oriented-pakistan",
   "metadata": {},
   "source": [
    "###Predicting Sentiment in New Reviews\n",
    "\n",
    "#Below, we've again included some example new reviews you can test your results on."
   ]
  },
  {
   "cell_type": "code",
   "execution_count": 14,
   "id": "tutorial-drunk",
   "metadata": {},
   "outputs": [
    {
     "name": "stdout",
     "output_type": "stream",
     "text": [
      "['I love this phone', 'I hate spaghetti', 'Everything was cold', 'Everything was hot exactly as I wanted', 'Everything was green', 'the host seated us immediately', 'they gave us free chocolate cake', 'not sure about the wilted flowers on the table', 'only works when I stand on tippy toes', 'does not work when I stand on my head']\n",
      "\n",
      "HOT OFF THE PRESS! HERE ARE SOME NEWLY MINTED, ABSOLUTELY GENUINE REVIEWS!\n",
      "\n",
      "I love this phone\n",
      "[0.9415046]\n",
      "\n",
      "\n",
      "I hate spaghetti\n",
      "[0.11933044]\n",
      "\n",
      "\n",
      "Everything was cold\n",
      "[0.6461528]\n",
      "\n",
      "\n",
      "Everything was hot exactly as I wanted\n",
      "[0.4513342]\n",
      "\n",
      "\n",
      "Everything was green\n",
      "[0.6461528]\n",
      "\n",
      "\n",
      "the host seated us immediately\n",
      "[0.62221014]\n",
      "\n",
      "\n",
      "they gave us free chocolate cake\n",
      "[0.90687305]\n",
      "\n",
      "\n",
      "not sure about the wilted flowers on the table\n",
      "[0.07077882]\n",
      "\n",
      "\n",
      "only works when I stand on tippy toes\n",
      "[0.91018534]\n",
      "\n",
      "\n",
      "does not work when I stand on my head\n",
      "[0.01674896]\n",
      "\n",
      "\n"
     ]
    }
   ],
   "source": [
    "# Use the model to predict a review   \n",
    "fake_reviews = ['I love this phone', 'I hate spaghetti', \n",
    "                'Everything was cold',\n",
    "                'Everything was hot exactly as I wanted', \n",
    "                'Everything was green', \n",
    "                'the host seated us immediately',\n",
    "                'they gave us free chocolate cake', \n",
    "                'not sure about the wilted flowers on the table',\n",
    "                'only works when I stand on tippy toes', \n",
    "                'does not work when I stand on my head']\n",
    "\n",
    "print(fake_reviews)\n",
    "\n",
    "# Create the sequences\n",
    "padding_type='post'\n",
    "sample_sequences = tokenizer.texts_to_sequences(fake_reviews)\n",
    "fakes_padded = pad_sequences(sample_sequences, padding=padding_type, maxlen=max_length)     \n",
    "\n",
    "print('\\nHOT OFF THE PRESS! HERE ARE SOME NEWLY MINTED, ABSOLUTELY GENUINE REVIEWS!\\n')   \n",
    "\n",
    "classes = model.predict(fakes_padded)\n",
    "\n",
    "# The closer the class is to 1, the more positive the review is deemed to be\n",
    "for x in range(len(fake_reviews)):\n",
    "    print(fake_reviews[x])\n",
    "    print(classes[x])\n",
    "    print('\\n')\n",
    "    \n",
    "# Try adding reviews of your own\n",
    "# Add some negative words (such as \"not\") to the good reviews and see what happens\n",
    "# For example:\n",
    "# they gave us free chocolate cake and did not charge us"
   ]
  },
  {
   "cell_type": "code",
   "execution_count": null,
   "id": "correct-confidentiality",
   "metadata": {},
   "outputs": [],
   "source": []
  }
 ],
 "metadata": {
  "kernelspec": {
   "display_name": "Python 3",
   "language": "python",
   "name": "python3"
  },
  "language_info": {
   "codemirror_mode": {
    "name": "ipython",
    "version": 3
   },
   "file_extension": ".py",
   "mimetype": "text/x-python",
   "name": "python",
   "nbconvert_exporter": "python",
   "pygments_lexer": "ipython3",
   "version": "3.8.5"
  }
 },
 "nbformat": 4,
 "nbformat_minor": 5
}
