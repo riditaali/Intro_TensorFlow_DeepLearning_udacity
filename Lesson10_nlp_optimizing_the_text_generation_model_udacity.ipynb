{
 "cells": [
  {
   "cell_type": "code",
   "execution_count": null,
   "id": "cathedral-university",
   "metadata": {},
   "outputs": [],
   "source": [
    "\"\"\"\n",
    "There are a number of ways you might improve your text generation models:\n",
    "\n",
    "Using more data?\n",
    "You’ll need to consider memory and output size constraints\n",
    "Also consider using only top-k most common words\n",
    "Know your data - songs have many more words than a Tweet\n",
    "Keep tuning your model\n",
    "Add/subtract from layer sizes or embedding dimensions\n",
    "Use np.random.choice with the probabilities for more variance in predicted outputs\n",
    "\"\"\""
   ]
  },
  {
   "cell_type": "code",
   "execution_count": null,
   "id": "numeric-request",
   "metadata": {},
   "outputs": [],
   "source": [
    "###Optimizing the Text Generation Model\n",
    "\n",
    "#You've already done some amazing work with generating new songs, but so far we've seen some issues with repetition and a fair amount of incoherence.\n",
    "#By using more data and further tweaking the model, you'll be able to get improved results.\n",
    "#We'll once again use the Kaggle Song Lyrics Dataset here."
   ]
  },
  {
   "cell_type": "code",
   "execution_count": 1,
   "id": "second-webcam",
   "metadata": {},
   "outputs": [],
   "source": [
    "###Import TensorFlow and related functions\n",
    "\n",
    "import tensorflow as tf\n",
    "\n",
    "from tensorflow.keras.preprocessing.text import Tokenizer\n",
    "from tensorflow.keras.preprocessing.sequence import pad_sequences\n",
    "\n",
    "# Other imports for processing data\n",
    "import string\n",
    "import numpy as np\n",
    "import pandas as pd"
   ]
  },
  {
   "cell_type": "code",
   "execution_count": 2,
   "id": "laughing-citizenship",
   "metadata": {},
   "outputs": [
    {
     "name": "stderr",
     "output_type": "stream",
     "text": [
      "'wget' is not recognized as an internal or external command,\n",
      "operable program or batch file.\n"
     ]
    }
   ],
   "source": [
    "###Get the Dataset\n",
    "\n",
    "#As noted above, we'll utilize the Song Lyrics dataset on Kaggle again.\n",
    "\n",
    "!wget --no-check-certificate \\\n",
    "    https://drive.google.com/uc?id=1LiJFZd41ofrWoBtW-pMYsfz1w8Ny0Bj8 \\\n",
    "    -O /tmp/songdata.csv"
   ]
  },
  {
   "cell_type": "code",
   "execution_count": 6,
   "id": "sharp-banking",
   "metadata": {},
   "outputs": [],
   "source": [
    "# Read the dataset from csv - just first 10 songs for now\n",
    "dataset = pd.read_csv('C:/Users/fortn/anaconda3/songdata.csv')"
   ]
  },
  {
   "cell_type": "code",
   "execution_count": null,
   "id": "heated-morrison",
   "metadata": {},
   "outputs": [],
   "source": [
    "\"\"\"\n",
    "250 Songs\n",
    "Now we've seen a model trained on just a small sample of songs, and how this often leads to repetition as you get further along in trying to generate new text.\n",
    "Let's switch to using the 250 songs instead, and see if our output improves. This will actually be nearly 10K lines of lyrics, which should be sufficient.\n",
    "\n",
    "Note that we won't use the full dataset here as it will take up quite a bit of RAM and processing time, but you're welcome to try doing so on your own later.\n",
    "If interested, you'll likely want to use only some of the more common words for the Tokenizer, which will help shrink processing time and memory needed (or else you'd have an output array hundreds of thousands of words long).\n",
    "\"\"\""
   ]
  },
  {
   "cell_type": "code",
   "execution_count": null,
   "id": "designed-teacher",
   "metadata": {},
   "outputs": [],
   "source": [
    "###Preprocessing"
   ]
  },
  {
   "cell_type": "code",
   "execution_count": 4,
   "id": "corporate-pittsburgh",
   "metadata": {},
   "outputs": [],
   "source": [
    "def tokenize_corpus(corpus, num_words=-1):\n",
    "  # Fit a Tokenizer on the corpus\n",
    "  if num_words > -1:\n",
    "    tokenizer = Tokenizer(num_words=num_words)\n",
    "  else:\n",
    "    tokenizer = Tokenizer()\n",
    "  tokenizer.fit_on_texts(corpus)\n",
    "  return tokenizer\n",
    "\n",
    "def create_lyrics_corpus(dataset, field):\n",
    "  # Remove all other punctuation\n",
    "  dataset[field] = dataset[field].str.replace('[{}]'.format(string.punctuation), '')\n",
    "  # Make it lowercase\n",
    "  dataset[field] = dataset[field].str.lower()\n",
    "  # Make it one long string to split by line\n",
    "  lyrics = dataset[field].str.cat()\n",
    "  corpus = lyrics.split('\\n')\n",
    "  # Remove any trailing whitespace\n",
    "  for l in range(len(corpus)):\n",
    "    corpus[l] = corpus[l].rstrip()\n",
    "  # Remove any empty lines\n",
    "  corpus = [l for l in corpus if l != '']\n",
    "\n",
    "  return corpus"
   ]
  },
  {
   "cell_type": "code",
   "execution_count": 7,
   "id": "chinese-scotland",
   "metadata": {},
   "outputs": [
    {
     "name": "stderr",
     "output_type": "stream",
     "text": [
      "<ipython-input-4-fbdddccf8583>:12: FutureWarning: The default value of regex will change from True to False in a future version.\n",
      "  dataset[field] = dataset[field].str.replace('[{}]'.format(string.punctuation), '')\n"
     ]
    },
    {
     "name": "stdout",
     "output_type": "stream",
     "text": [
      "2000\n"
     ]
    }
   ],
   "source": [
    "def tokenize_corpus(corpus, num_words=-1):\n",
    "  # Fit a Tokenizer on the corpus\n",
    "  if num_words > -1:\n",
    "    tokenizer = Tokenizer(num_words=num_words)\n",
    "  else:\n",
    "    tokenizer = Tokenizer()\n",
    "  tokenizer.fit_on_texts(corpus)\n",
    "  return tokenizer\n",
    "\n",
    "# Read the dataset from csv - this time with 250 songs\n",
    "dataset = pd.read_csv('C:/Users/fortn/anaconda3/songdata.csv', dtype=str)[:250]\n",
    "# Create the corpus using the 'text' column containing lyrics\n",
    "corpus = create_lyrics_corpus(dataset, 'text')\n",
    "# Tokenize the corpus\n",
    "tokenizer = tokenize_corpus(corpus, num_words=2000)\n",
    "total_words = tokenizer.num_words\n",
    "\n",
    "# There should be a lot more words now\n",
    "print(total_words)"
   ]
  },
  {
   "cell_type": "code",
   "execution_count": 8,
   "id": "through-bennett",
   "metadata": {},
   "outputs": [],
   "source": [
    "###Create Sequences and Labels\n",
    "\n",
    "sequences = []\n",
    "for line in corpus:\n",
    "\ttoken_list = tokenizer.texts_to_sequences([line])[0]\n",
    "\tfor i in range(1, len(token_list)):\n",
    "\t\tn_gram_sequence = token_list[:i+1]\n",
    "\t\tsequences.append(n_gram_sequence)\n",
    "\n",
    "# Pad sequences for equal input length \n",
    "max_sequence_len = max([len(seq) for seq in sequences])\n",
    "sequences = np.array(pad_sequences(sequences, maxlen=max_sequence_len, padding='pre'))\n",
    "\n",
    "# Split sequences between the \"input\" sequence and \"output\" predicted word\n",
    "input_sequences, labels = sequences[:,:-1], sequences[:,-1]\n",
    "# One-hot encode the labels\n",
    "one_hot_labels = tf.keras.utils.to_categorical(labels, num_classes=total_words)"
   ]
  },
  {
   "cell_type": "code",
   "execution_count": null,
   "id": "judicial-majority",
   "metadata": {},
   "outputs": [],
   "source": [
    "\"\"\"\n",
    "Train a (Better) Text Generation Model\n",
    "With more data, we'll cut off after 100 epochs to avoid keeping you here all day.\n",
    "#You'll also want to change your runtime type to GPU if you haven't already (you'll need to re-run the above cells if you change runtimes).\n",
    "\"\"\""
   ]
  },
  {
   "cell_type": "code",
   "execution_count": null,
   "id": "dynamic-contrast",
   "metadata": {},
   "outputs": [
    {
     "name": "stdout",
     "output_type": "stream",
     "text": [
      "Epoch 1/100\n",
      "1480/1480 [==============================] - 44s 19ms/step - loss: 6.2311 - accuracy: 0.0404\n",
      "Epoch 2/100\n",
      "1480/1480 [==============================] - 28s 19ms/step - loss: 5.6895 - accuracy: 0.0477\n",
      "Epoch 3/100\n",
      "1480/1480 [==============================] - 28s 19ms/step - loss: 5.4754 - accuracy: 0.0702\n",
      "Epoch 4/100\n",
      "1480/1480 [==============================] - 37s 25ms/step - loss: 5.2980 - accuracy: 0.0919\n",
      "Epoch 5/100\n",
      "1480/1480 [==============================] - 34s 23ms/step - loss: 5.1024 - accuracy: 0.1141\n",
      "Epoch 6/100\n",
      "1480/1480 [==============================] - 31s 21ms/step - loss: 4.8992 - accuracy: 0.1361\n",
      "Epoch 7/100\n",
      "1480/1480 [==============================] - 32s 22ms/step - loss: 4.7278 - accuracy: 0.15500s - loss:\n",
      "Epoch 8/100\n",
      "1480/1480 [==============================] - 33s 22ms/step - loss: 4.5808 - accuracy: 0.1679\n",
      "Epoch 9/100\n",
      "1480/1480 [==============================] - 35s 24ms/step - loss: 4.4686 - accuracy: 0.17750s - loss:\n",
      "Epoch 10/100\n",
      "1480/1480 [==============================] - 34s 23ms/step - loss: 4.3671 - accuracy: 0.1886\n",
      "Epoch 11/100\n",
      "1480/1480 [==============================] - 29s 20ms/step - loss: 4.2562 - accuracy: 0.2024\n",
      "Epoch 12/100\n",
      "1480/1480 [==============================] - 31s 21ms/step - loss: 4.1748 - accuracy: 0.2145\n",
      "Epoch 13/100\n",
      "1480/1480 [==============================] - 28s 19ms/step - loss: 4.1057 - accuracy: 0.2206\n",
      "Epoch 14/100\n",
      "1480/1480 [==============================] - 26s 17ms/step - loss: 4.0195 - accuracy: 0.2336\n",
      "Epoch 15/100\n",
      "1480/1480 [==============================] - 29s 19ms/step - loss: 3.9566 - accuracy: 0.2409\n",
      "Epoch 16/100\n",
      "1480/1480 [==============================] - 39s 26ms/step - loss: 3.7667 - accuracy: 0.2661 ETA: 0s - loss: 3.7664 - ac\n",
      "Epoch 19/100\n",
      "1480/1480 [==============================] - 38s 25ms/step - loss: 3.7061 - accuracy: 0.2750\n",
      "Epoch 20/100\n",
      "1480/1480 [==============================] - 32s 22ms/step - loss: 3.6783 - accuracy: 0.2782\n",
      "Epoch 21/100\n",
      "1480/1480 [==============================] - 31s 21ms/step - loss: 3.6314 - accuracy: 0.2868\n",
      "Epoch 22/100\n",
      "1480/1480 [==============================] - 35s 24ms/step - loss: 3.5748 - accuracy: 0.2920\n",
      "Epoch 23/100\n",
      "1480/1480 [==============================] - 31s 21ms/step - loss: 3.5396 - accuracy: 0.2987\n",
      "Epoch 24/100\n",
      "1480/1480 [==============================] - 34s 23ms/step - loss: 3.5180 - accuracy: 0.3026\n",
      "Epoch 25/100\n",
      "1480/1480 [==============================] - 30s 20ms/step - loss: 3.4764 - accuracy: 0.3124\n",
      "Epoch 26/100\n",
      "1480/1480 [==============================] - 28s 19ms/step - loss: 3.4325 - accuracy: 0.3165\n",
      "Epoch 27/100\n",
      "1480/1480 [==============================] - 32s 22ms/step - loss: 3.3821 - accuracy: 0.3246\n",
      "Epoch 28/100\n",
      "1480/1480 [==============================] - 34s 23ms/step - loss: 3.3727 - accuracy: 0.3236\n",
      "Epoch 29/100\n",
      "1480/1480 [==============================] - 33s 22ms/step - loss: 3.3548 - accuracy: 0.32680s - loss:\n",
      "Epoch 30/100\n",
      "1480/1480 [==============================] - 36s 24ms/step - loss: 3.3006 - accuracy: 0.3369\n",
      "Epoch 31/100\n",
      "1480/1480 [==============================] - 30s 20ms/step - loss: 3.2803 - accuracy: 0.3379\n",
      "Epoch 32/100\n",
      "1480/1480 [==============================] - 32s 21ms/step - loss: 3.2360 - accuracy: 0.3438\n",
      "Epoch 33/100\n",
      "1480/1480 [==============================] - 30s 20ms/step - loss: 3.2360 - accuracy: 0.3486\n",
      "Epoch 34/100\n",
      "1480/1480 [==============================] - 28s 19ms/step - loss: 3.2082 - accuracy: 0.3486\n",
      "Epoch 35/100\n",
      "1480/1480 [==============================] - 27s 19ms/step - loss: 3.1501 - accuracy: 0.3579\n",
      "Epoch 36/100\n",
      "1480/1480 [==============================] - 29s 19ms/step - loss: 3.1552 - accuracy: 0.3596\n",
      "Epoch 37/100\n",
      "1480/1480 [==============================] - 29s 20ms/step - loss: 3.1006 - accuracy: 0.3679\n",
      "Epoch 38/100\n",
      "1480/1480 [==============================] - 29s 20ms/step - loss: 3.0997 - accuracy: 0.3658\n",
      "Epoch 39/100\n",
      "1480/1480 [==============================] - 33s 22ms/step - loss: 3.0606 - accuracy: 0.37252s - loss: 3.0586 - accura - ETA: 1s - los - ETA\n",
      "Epoch 40/100\n",
      "1480/1480 [==============================] - 31s 21ms/step - loss: 3.0473 - accuracy: 0.3778\n",
      "Epoch 41/100\n",
      "1480/1480 [==============================] - 30s 20ms/step - loss: 3.0242 - accuracy: 0.3794\n",
      "Epoch 42/100\n",
      "1480/1480 [==============================] - 28s 19ms/step - loss: 3.0124 - accuracy: 0.3805\n",
      "Epoch 43/100\n",
      "1480/1480 [==============================] - 30s 20ms/step - loss: 2.9914 - accuracy: 0.38640s - loss: 2.9912 - accu\n",
      "Epoch 44/100\n",
      "1480/1480 [==============================] - 31s 21ms/step - loss: 2.9986 - accuracy: 0.3812\n",
      "Epoch 45/100\n",
      "1480/1480 [==============================] - 28s 19ms/step - loss: 2.9441 - accuracy: 0.39270s\n",
      "Epoch 46/100\n",
      "1480/1480 [==============================] - 28s 19ms/step - loss: 2.9251 - accuracy: 0.3970\n",
      "Epoch 47/100\n",
      "1480/1480 [==============================] - 27s 18ms/step - loss: 2.8963 - accuracy: 0.4017\n",
      "Epoch 48/100\n",
      "1480/1480 [==============================] - 27s 18ms/step - loss: 2.9138 - accuracy: 0.3970\n",
      "Epoch 49/100\n",
      "1480/1480 [==============================] - 27s 18ms/step - loss: 2.8587 - accuracy: 0.4059\n",
      "Epoch 50/100\n",
      "1480/1480 [==============================] - 27s 18ms/step - loss: 2.8588 - accuracy: 0.4051\n",
      "Epoch 51/100\n",
      "1480/1480 [==============================] - 27s 18ms/step - loss: 2.8405 - accuracy: 0.4079\n",
      "Epoch 52/100\n",
      "1480/1480 [==============================] - 26s 18ms/step - loss: 2.8378 - accuracy: 0.4089\n",
      "Epoch 53/100\n",
      "1480/1480 [==============================] - 27s 18ms/step - loss: 2.8252 - accuracy: 0.4150\n",
      "Epoch 54/100\n",
      "1480/1480 [==============================] - 28s 19ms/step - loss: 2.7936 - accuracy: 0.4145\n",
      "Epoch 55/100\n",
      "1480/1480 [==============================] - 37s 25ms/step - loss: 2.7878 - accuracy: 0.41920s - loss: 2.7875 - ac\n",
      "Epoch 56/100\n",
      "1480/1480 [==============================] - 38s 26ms/step - loss: 2.7528 - accuracy: 0.4252\n",
      "Epoch 57/100\n",
      "1480/1480 [==============================] - 33s 23ms/step - loss: 2.7659 - accuracy: 0.4221\n",
      "Epoch 58/100\n",
      "1480/1480 [==============================] - 35s 24ms/step - loss: 2.7290 - accuracy: 0.4266\n",
      "Epoch 59/100\n",
      "1480/1480 [==============================] - 30s 20ms/step - loss: 2.7406 - accuracy: 0.4252\n",
      "Epoch 60/100\n",
      "1480/1480 [==============================] - 34s 23ms/step - loss: 2.7226 - accuracy: 0.43050s - loss: 2.7225 - accuracy: 0.\n",
      "Epoch 61/100\n",
      "1480/1480 [==============================] - 32s 22ms/step - loss: 2.7213 - accuracy: 0.4269\n",
      "Epoch 62/100\n",
      "1480/1480 [==============================] - 35s 24ms/step - loss: 2.6789 - accuracy: 0.4382\n",
      "Epoch 63/100\n",
      "1480/1480 [==============================] - 30s 21ms/step - loss: 2.6659 - accuracy: 0.4392\n",
      "Epoch 64/100\n",
      "1480/1480 [==============================] - 33s 22ms/step - loss: 2.6795 - accuracy: 0.4361\n",
      "Epoch 65/100\n",
      "1480/1480 [==============================] - 33s 22ms/step - loss: 2.6573 - accuracy: 0.4401\n",
      "Epoch 66/100\n",
      "1480/1480 [==============================] - 39s 27ms/step - loss: 2.6441 - accuracy: 0.4408\n",
      "Epoch 67/100\n",
      "1480/1480 [==============================] - 34s 23ms/step - loss: 2.6307 - accuracy: 0.44160s -\n",
      "Epoch 68/100\n",
      "1480/1480 [==============================] - 34s 23ms/step - loss: 2.6229 - accuracy: 0.4454\n",
      "Epoch 69/100\n",
      "1480/1480 [==============================] - 33s 22ms/step - loss: 2.6230 - accuracy: 0.44520s - loss: 2.622\n",
      "Epoch 70/100\n",
      "1480/1480 [==============================] - 44s 29ms/step - loss: 2.6129 - accuracy: 0.4446\n",
      "Epoch 71/100\n",
      "1480/1480 [==============================] - 50s 34ms/step - loss: 2.5926 - accuracy: 0.4497\n",
      "Epoch 72/100\n",
      "1480/1480 [==============================] - 46s 31ms/step - loss: 2.5742 - accuracy: 0.4578\n",
      "Epoch 73/100\n",
      "1480/1480 [==============================] - 38s 26ms/step - loss: 2.5505 - accuracy: 0.45761s - loss: 2.549 - ETA: 0s - loss: 2.5503 - \n",
      "Epoch 77/100\n",
      "1480/1480 [==============================] - 42s 29ms/step - loss: 2.5414 - accuracy: 0.4597\n",
      "Epoch 78/100\n",
      "1480/1480 [==============================] - 41s 28ms/step - loss: 2.4695 - accuracy: 0.4714\n",
      "Epoch 84/100\n",
      "1480/1480 [==============================] - 43s 29ms/step - loss: 2.4813 - accuracy: 0.4681\n",
      "Epoch 85/100\n"
     ]
    },
    {
     "name": "stdout",
     "output_type": "stream",
     "text": [
      "1480/1480 [==============================] - 39s 27ms/step - loss: 2.4241 - accuracy: 0.4831\n",
      "Epoch 91/100\n",
      "1480/1480 [==============================] - 39s 27ms/step - loss: 2.4017 - accuracy: 0.4844\n",
      "Epoch 92/100\n",
      "1480/1480 [==============================] - 43s 29ms/step - loss: 2.4100 - accuracy: 0.4835\n",
      "Epoch 93/100\n",
      "1480/1480 [==============================] - 43s 29ms/step - loss: 2.3904 - accuracy: 0.4875\n",
      "Epoch 94/100\n",
      "1480/1480 [==============================] - 46s 31ms/step - loss: 2.3733 - accuracy: 0.4885\n",
      "Epoch 99/100\n",
      "1480/1480 [==============================] - 46s 31ms/step - loss: 2.3717 - accuracy: 0.4902\n",
      "Epoch 100/100\n",
      "1263/1480 [========================>.....] - ETA: 7s - loss: 2.3686 - accuracy: 0.4953"
     ]
    }
   ],
   "source": [
    "from tensorflow.keras.models import Sequential\n",
    "from tensorflow.keras.layers import Embedding, LSTM, Dense, Bidirectional\n",
    "\n",
    "model = Sequential()\n",
    "model.add(Embedding(total_words, 64, input_length=max_sequence_len-1))\n",
    "model.add(Bidirectional(LSTM(20)))\n",
    "model.add(Dense(total_words, activation='softmax'))\n",
    "model.compile(loss='categorical_crossentropy', optimizer='adam', metrics=['accuracy'])\n",
    "history = model.fit(input_sequences, one_hot_labels, epochs=100, verbose=1)"
   ]
  },
  {
   "cell_type": "code",
   "execution_count": 10,
   "id": "nervous-strategy",
   "metadata": {},
   "outputs": [
    {
     "data": {
      "image/png": "[encoded data removed]",
      "text/plain": [
       "<Figure size 432x288 with 1 Axes>"
      ]
     },
     "metadata": {
      "needs_background": "light"
     },
     "output_type": "display_data"
    }
   ],
   "source": [
    "###View the Training Graph\n",
    "\n",
    "import matplotlib.pyplot as plt\n",
    "\n",
    "def plot_graphs(history, string):\n",
    "  plt.plot(history.history[string])\n",
    "  plt.xlabel(\"Epochs\")\n",
    "  plt.ylabel(string)\n",
    "  plt.show()\n",
    "\n",
    "plot_graphs(history, 'accuracy')"
   ]
  },
  {
   "cell_type": "code",
   "execution_count": null,
   "id": "incoming-fashion",
   "metadata": {},
   "outputs": [],
   "source": [
    "###Generate better lyrics!\n",
    "#This time around, we should be able to get a more interesting output with less repetition."
   ]
  },
  {
   "cell_type": "code",
   "execution_count": 11,
   "id": "above-taiwan",
   "metadata": {},
   "outputs": [
    {
     "name": "stdout",
     "output_type": "stream",
     "text": [
      "im feeling chills me to the bone on the sky and shining out of your misery famous beams meets beach bliss apple complain girls wonderful teach heavens changed fat adore hero word showing small cotton age knock missing give me the other inside is the same again and you and me jeanie jeanie is until youre gonna take for me im extra fucking wasted i know we get to me jeanie on my head livin like you want to go away from sing the girls around before you shouldnt me jeanie jeanie again for the night is sleep o river before you dance\n"
     ]
    }
   ],
   "source": [
    "seed_text = \"im feeling chills\"\n",
    "next_words = 100\n",
    "  \n",
    "for _ in range(next_words):\n",
    "\ttoken_list = tokenizer.texts_to_sequences([seed_text])[0]\n",
    "\ttoken_list = pad_sequences([token_list], maxlen=max_sequence_len-1, padding='pre')\n",
    "\tpredicted = np.argmax(model.predict(token_list), axis=-1)\n",
    "\toutput_word = \"\"\n",
    "\tfor word, index in tokenizer.word_index.items():\n",
    "\t\tif index == predicted:\n",
    "\t\t\toutput_word = word\n",
    "\t\t\tbreak\n",
    "\tseed_text += \" \" + output_word\n",
    "print(seed_text)"
   ]
  },
  {
   "cell_type": "code",
   "execution_count": null,
   "id": "convinced-costume",
   "metadata": {},
   "outputs": [],
   "source": [
    "\"\"\"\n",
    "Varying the Possible Outputs\n",
    "In running the above, you may notice that the same seed text will generate similar outputs.\n",
    "This is because the code is currently always choosing the top predicted class as the next word.\n",
    "What if you wanted more variance in the output?\n",
    "\n",
    "Switching from model.predict_classes to model.predict_proba will get us all of the class probabilities.\n",
    "We can combine this with np.random.choice to select a given predicted output based on a probability, thereby giving a bit more randomness to our outputs.\n",
    "\"\"\""
   ]
  },
  {
   "cell_type": "code",
   "execution_count": 12,
   "id": "unavailable-giant",
   "metadata": {},
   "outputs": [
    {
     "name": "stdout",
     "output_type": "stream",
     "text": [
      "16\n"
     ]
    }
   ],
   "source": [
    "# Test the method with just the first word after the seed text\n",
    "seed_text = \"im feeling chills\"\n",
    "next_words = 100\n",
    "  \n",
    "token_list = tokenizer.texts_to_sequences([seed_text])[0]\n",
    "token_list = pad_sequences([token_list], maxlen=max_sequence_len-1, padding='pre')\n",
    "predicted_probs = model.predict(token_list)[0]\n",
    "predicted = np.random.choice([x for x in range(len(predicted_probs))], \n",
    "                             p=predicted_probs)\n",
    "# Running this cell multiple times should get you some variance in output\n",
    "print(predicted)"
   ]
  },
  {
   "cell_type": "code",
   "execution_count": 13,
   "id": "impossible-pharmaceutical",
   "metadata": {},
   "outputs": [
    {
     "name": "stdout",
     "output_type": "stream",
     "text": [
      "im feeling chills in your will for him this time but i please me aint no crazy night after long night late changed out that street knew office cutie teach lovelight shoes light back upon the moon shine that beats to blame for no easy that i will love up your mother know i is no more to be your more mans dust too funny call us gee shes fat of judge live prison run sore very parted gotta kin fire for love then you kissed the back to begun that trick now is the park of rock women clouds age mama rocking\n"
     ]
    }
   ],
   "source": [
    "# Use this process for the full output generation\n",
    "seed_text = \"im feeling chills\"\n",
    "next_words = 100\n",
    "  \n",
    "for _ in range(next_words):\n",
    "  token_list = tokenizer.texts_to_sequences([seed_text])[0]\n",
    "  token_list = pad_sequences([token_list], maxlen=max_sequence_len-1, padding='pre')\n",
    "  predicted_probs = model.predict(token_list)[0]\n",
    "  predicted = np.random.choice([x for x in range(len(predicted_probs))],\n",
    "                               p=predicted_probs)\n",
    "  output_word = \"\"\n",
    "  for word, index in tokenizer.word_index.items():\n",
    "    if index == predicted:\n",
    "      output_word = word\n",
    "      break\n",
    "  seed_text += \" \" + output_word\n",
    "print(seed_text)"
   ]
  },
  {
   "cell_type": "code",
   "execution_count": null,
   "id": "conditional-positive",
   "metadata": {},
   "outputs": [],
   "source": []
  }
 ],
 "metadata": {
  "kernelspec": {
   "display_name": "Python 3",
   "language": "python",
   "name": "python3"
  },
  "language_info": {
   "codemirror_mode": {
    "name": "ipython",
    "version": 3
   },
   "file_extension": ".py",
   "mimetype": "text/x-python",
   "name": "python",
   "nbconvert_exporter": "python",
   "pygments_lexer": "ipython3",
   "version": "3.8.5"
  }
 },
 "nbformat": 4,
 "nbformat_minor": 5
}
