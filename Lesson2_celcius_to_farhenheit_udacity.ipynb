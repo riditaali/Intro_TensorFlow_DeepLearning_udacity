{
 "cells": [
  {
   "cell_type": "code",
   "execution_count": 15,
   "metadata": {},
   "outputs": [],
   "source": [
    "import tensorflow as tf"
   ]
  },
  {
   "cell_type": "code",
   "execution_count": 20,
   "metadata": {},
   "outputs": [],
   "source": [
    "import keras"
   ]
  },
  {
   "cell_type": "code",
   "execution_count": 16,
   "metadata": {},
   "outputs": [],
   "source": [
    "import numpy as np\n",
    "import logging\n",
    "logger = tf.get_logger() # tell tensorflow only to log error messages\n",
    "logger.setLevel(logging.ERROR)"
   ]
  },
  {
   "cell_type": "code",
   "execution_count": 17,
   "metadata": {},
   "outputs": [
    {
     "name": "stdout",
     "output_type": "stream",
     "text": [
      "-40.0 degrees Celsius = -40.0 degrees Fahrenheit\n",
      "-10.0 degrees Celsius = 14.0 degrees Fahrenheit\n",
      "0.0 degrees Celsius = 32.0 degrees Fahrenheit\n",
      "8.0 degrees Celsius = 46.0 degrees Fahrenheit\n",
      "15.0 degrees Celsius = 59.0 degrees Fahrenheit\n",
      "22.0 degrees Celsius = 72.0 degrees Fahrenheit\n",
      "38.0 degrees Celsius = 100.0 degrees Fahrenheit\n"
     ]
    }
   ],
   "source": [
    "#Set up training data\n",
    "\n",
    "celsius_q    = np.array([-40, -10,  0,  8, 15, 22,  38],  dtype=float)\n",
    "fahrenheit_a = np.array([-40,  14, 32, 46, 59, 72, 100],  dtype=float)\n",
    "\n",
    "for i,c in enumerate(celsius_q):\n",
    "  print(\"{} degrees Celsius = {} degrees Fahrenheit\".format(c, fahrenheit_a[i]))"
   ]
  },
  {
   "cell_type": "code",
   "execution_count": null,
   "metadata": {},
   "outputs": [],
   "source": [
    "#Some Machine Learning terminology\n",
    "\n",
    "\"\"\"\n",
    "Feature — The input(s) to our model. In this case, a single value — the degrees in Celsius.\n",
    "\n",
    "Labels — The output our model predicts. In this case, a single value — the degrees in Fahrenheit.\n",
    "\n",
    "Example — A pair of inputs/outputs used during training. In our case a pair of values from celsius_q and fahrenheit_a at a specific index, such as (22,72).\n",
    "\"\"\"\n",
    "\n",
    "#Build a layer\n",
    "\"\"\"\n",
    "We'll call the layer l0 and create it by instantiating tf.keras.layers.Dense with the following configuration:\n",
    "\n",
    "input_shape=[1] — This specifies that the input to this layer is a single value. That is, the shape is a one-dimensional array with one member. Since this is the first (and only) layer, that input shape is the input shape of the entire model. The single value is a floating point number, representing degrees Celsius.\n",
    "\n",
    "units=1 — This specifies the number of neurons in the layer. The number of neurons defines how many internal variables the layer has to try to learn how to solve the problem (more later). Since this is the final layer, it is also the size of the model's output — a single float value representing degrees Fahrenheit. (In a multi-layered network, the size and shape of the layer would need to match the input_shape of the next layer.)\n",
    "\"\"\""
   ]
  },
  {
   "cell_type": "code",
   "execution_count": 19,
   "metadata": {},
   "outputs": [],
   "source": [
    "l0 = tf.keras.layers.Dense(units=1, input_shape=[1])"
   ]
  },
  {
   "cell_type": "code",
   "execution_count": 6,
   "metadata": {},
   "outputs": [],
   "source": [
    "#Assemble layers into the model\n",
    "\n",
    "#Once layers are defined, they need to be assembled into a model.\n",
    "#The Sequential model definition takes a list of layers as an argument, specifying the calculation order from the input to the output.\n",
    "#This model has just a single layer, l0.\n",
    "\n",
    "model = tf.keras.Sequential([l0])"
   ]
  },
  {
   "cell_type": "code",
   "execution_count": 7,
   "metadata": {},
   "outputs": [],
   "source": [
    "#Compile the model, with loss and optimizer functions\n",
    "\n",
    "#Before training, the model has to be compiled. When compiled for training, the model is given:\n",
    "#Loss function — A way of measuring how far off predictions are from the desired outcome. (The measured difference is called the \"loss\".)\n",
    "#Optimizer function — A way of adjusting internal values in order to reduce the loss.\n",
    "\n",
    "model.compile(loss='mean_squared_error',\n",
    "              optimizer=tf.keras.optimizers.Adam(0.1))"
   ]
  },
  {
   "cell_type": "code",
   "execution_count": null,
   "metadata": {},
   "outputs": [],
   "source": [
    "#These are used during training (model.fit(), below) to first calculate the loss at each point, and then improve it. In fact, the act of calculating the current loss of a model and then improving it is precisely what training is.\n",
    "\n",
    "#During training, the optimizer function is used to calculate adjustments to the model's internal variables. The goal is to adjust the internal variables until the model (which is really a math function) mirrors the actual equation for converting Celsius to Fahrenheit.\n",
    "\n",
    "#TensorFlow uses numerical analysis to perform this tuning, and all this complexity is hidden from you so we will not go into the details here. What is useful to know about these parameters are:\n",
    "\n",
    "#The loss function (mean squared error) and the optimizer (Adam) used here are standard for simple models like this one, but many others are available. It is not important to know how these specific functions work at this point.\n",
    "\n",
    "#One part of the Optimizer you may need to think about when building your own models is the learning rate (0.1 in the code above). This is the step size taken when adjusting values in the model. If the value is too small, it will take too many iterations to train the model. Too large, and accuracy goes down. Finding a good value often involves some trial and error, but the range is usually within 0.001 (default), and 0.1"
   ]
  },
  {
   "cell_type": "code",
   "execution_count": 8,
   "metadata": {},
   "outputs": [
    {
     "name": "stdout",
     "output_type": "stream",
     "text": [
      "Finished training the model\n"
     ]
    }
   ],
   "source": [
    "#Train the model\n",
    "\n",
    "#Train the model by calling the fit method.\n",
    "\n",
    "#During training, the model takes in Celsius values, performs a calculation using the current internal variables (called \"weights\") and outputs values which are meant to be the Fahrenheit equivalent. Since the weights are initially set randomly, the output will not be close to the correct value. The difference between the actual output and the desired output is calculated using the loss function, and the optimizer function directs how the weights should be adjusted.\n",
    "\n",
    "#This cycle of calculate, compare, adjust is controlled by the fit method. The first argument is the inputs, the second argument is the desired outputs. The epochs argument specifies how many times this cycle should be run, and the verbose argument controls how much output the method produces.\n",
    "\n",
    "history = model.fit(celsius_q, fahrenheit_a, epochs=500, verbose=False)\n",
    "print(\"Finished training the model\")"
   ]
  },
  {
   "cell_type": "code",
   "execution_count": 9,
   "metadata": {},
   "outputs": [
    {
     "data": {
      "text/plain": [
       "[<matplotlib.lines.Line2D at 0x1ea94a3dc10>]"
      ]
     },
     "execution_count": 9,
     "metadata": {},
     "output_type": "execute_result"
    },
    {
     "data": {
      "image/png": "[encoded data removed]",
      "text/plain": [
       "<Figure size 432x288 with 1 Axes>"
      ]
     },
     "metadata": {
      "needs_background": "light"
     },
     "output_type": "display_data"
    }
   ],
   "source": [
    "#Display training statistics\n",
    "\n",
    "#The fit method returns a history object. We can use this object to plot how the loss of our model goes down after each training epoch. A high loss means that the Fahrenheit degrees the model predicts is far from the corresponding value in fahrenheit_a.\n",
    "\n",
    "#We'll use Matplotlib to visualize this (you could use another tool). As you can see, our model improves very quickly at first, and then has a steady, slow improvement until it is very near \"perfect\" towards the end.\n",
    "\n",
    "import matplotlib.pyplot as plt\n",
    "plt.xlabel('Epoch Number')\n",
    "plt.ylabel(\"Loss Magnitude\")\n",
    "plt.plot(history.history['loss'])"
   ]
  },
  {
   "cell_type": "code",
   "execution_count": 11,
   "metadata": {
    "scrolled": true
   },
   "outputs": [
    {
     "name": "stdout",
     "output_type": "stream",
     "text": [
      "[[211.31812]]\n"
     ]
    }
   ],
   "source": [
    "#Use the model to predict values\n",
    "\n",
    "#Now you have a model that has been trained to learn the relationship between celsius_q and fahrenheit_a.\n",
    "#You can use the predict method to have it calculate the Fahrenheit degrees for a previously unknown Celsius degrees.\n",
    "\n",
    "#Test, if Celcius value is 100\n",
    "\n",
    "print(model.predict([100.0]))"
   ]
  },
  {
   "cell_type": "code",
   "execution_count": 12,
   "metadata": {},
   "outputs": [
    {
     "name": "stdout",
     "output_type": "stream",
     "text": [
      "These are the layer variables: [array([[1.8232667]], dtype=float32), array([28.991438], dtype=float32)]\n"
     ]
    }
   ],
   "source": [
    "#Looking at the layer weights\n",
    "\n",
    "#Print the internal variables of the Dense layer.\n",
    "\n",
    "print(\"These are the layer variables: {}\".format(l0.get_weights()))"
   ]
  },
  {
   "cell_type": "code",
   "execution_count": 13,
   "metadata": {},
   "outputs": [
    {
     "name": "stdout",
     "output_type": "stream",
     "text": [
      "Finished training the model\n",
      "[[211.74747]]\n",
      "Model predicts that 100 degrees Celsius is: [[211.74747]] degrees Fahrenheit\n",
      "These are the l0 variables: [array([[-0.6484502 ,  0.10890291,  0.24023673,  0.28356025]],\n",
      "      dtype=float32), array([-3.3200064,  2.8360345, -1.6072053,  3.400624 ], dtype=float32)]\n",
      "These are the l1 variables: [array([[-0.72362226, -0.97068244,  0.31784976,  0.6713645 ],\n",
      "       [ 0.7157659 ,  0.7382318 , -0.0691235 ,  0.18927966],\n",
      "       [-0.07098281, -0.39988407,  0.4847521 ,  0.96567506],\n",
      "       [ 0.653086  ,  1.0318034 , -0.23799068,  0.15999311]],\n",
      "      dtype=float32), array([ 3.326949 ,  3.3467615, -1.9621922, -2.7911487], dtype=float32)]\n",
      "These are the l2 variables: [array([[ 0.8728969 ],\n",
      "       [ 1.1153563 ],\n",
      "       [-0.47158158],\n",
      "       [-0.61872095]], dtype=float32), array([3.18641], dtype=float32)]\n"
     ]
    }
   ],
   "source": [
    "#A little experiment with Dense Layers\n",
    "\n",
    "l0 = tf.keras.layers.Dense(units=4, input_shape=[1])\n",
    "l1 = tf.keras.layers.Dense(units=4)\n",
    "l2 = tf.keras.layers.Dense(units=1)\n",
    "model = tf.keras.Sequential([l0, l1, l2])\n",
    "model.compile(loss='mean_squared_error', optimizer=tf.keras.optimizers.Adam(0.1))\n",
    "model.fit(celsius_q, fahrenheit_a, epochs=500, verbose=False)\n",
    "print(\"Finished training the model\")\n",
    "print(model.predict([100.0]))\n",
    "print(\"Model predicts that 100 degrees Celsius is: {} degrees Fahrenheit\".format(model.predict([100.0])))\n",
    "print(\"These are the l0 variables: {}\".format(l0.get_weights()))\n",
    "print(\"These are the l1 variables: {}\".format(l1.get_weights()))\n",
    "print(\"These are the l2 variables: {}\".format(l2.get_weights()))"
   ]
  },
  {
   "cell_type": "code",
   "execution_count": null,
   "metadata": {},
   "outputs": [],
   "source": [
    "#Terms we should be familiar with\n",
    "\n",
    "\"\"\"\n",
    "Feature: The input(s) to our model\n",
    "Examples: An input/output pair used for training\n",
    "Labels: The output of the model\n",
    "Layer: A collection of nodes connected together within a neural network.\n",
    "Model: The representation of your neural network\n",
    "Dense and Fully Connected (FC): Each node in one layer is connected to each node in the previous layer.\n",
    "Weights and biases: The internal variables of model\n",
    "Loss: The discrepancy between the desired output and the actual output\n",
    "MSE: Mean squared error, a type of loss function that counts a small number of large discrepancies as worse than a large number of small ones.\n",
    "Gradient Descent: An algorithm that changes the internal variables a bit at a time to gradually reduce the loss function.\n",
    "Optimizer: A specific implementation of the gradient descent algorithm. (There are many algorithms for this. In this course we will only use the “Adam” Optimizer, which stands for ADAptive with Momentum. It is considered the best-practice optimizer.)\n",
    "Learning rate: The “step size” for loss improvement during gradient descent.\n",
    "Batch: The set of examples used during training of the neural network\n",
    "Epoch: A full pass over the entire training dataset\n",
    "Forward pass: The computation of output values from input\n",
    "Backward pass (backpropagation): The calculation of internal variable adjustments according to the optimizer algorithm, starting from the output layer and working back through each layer to the input.\n",
    "\"\"\""
   ]
  },
  {
   "cell_type": "code",
   "execution_count": 21,
   "metadata": {},
   "outputs": [],
   "source": [
    "#Dense Layers methods\n",
    "\n",
    "hidden = tf.keras.layers.Dense(units=2, input_shape=[3])\n",
    "output = tf.keras.layers.Dense(units=1)\n",
    "model = tf.keras.Sequential( [hidden, output])"
   ]
  }
 ],
 "metadata": {
  "kernelspec": {
   "display_name": "Python 3",
   "language": "python",
   "name": "python3"
  },
  "language_info": {
   "codemirror_mode": {
    "name": "ipython",
    "version": 3
   },
   "file_extension": ".py",
   "mimetype": "text/x-python",
   "name": "python",
   "nbconvert_exporter": "python",
   "pygments_lexer": "ipython3",
   "version": "3.8.5"
  }
 },
 "nbformat": 4,
 "nbformat_minor": 4
}
