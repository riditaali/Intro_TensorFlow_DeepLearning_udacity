{
 "cells": [
  {
   "cell_type": "markdown",
   "id": "enabling-recycling",
   "metadata": {},
   "source": [
    "###RNNs\n",
    "\n",
    "#Recurrent Neural Networks (RNNs) still take in some input x and output some y, but they also feed some of the output of the network back into itself. This may be done over and over, so that with text input, the network has some memory of words that came much earlier in a sequence.\n",
    "\n",
    "#How do recurrent neural networks (RNNs) differ from the network architectures you’ve been working with previously?\n",
    "\n",
    "#RNNs utilise or store information regarding previous inputs to better understand sequences."
   ]
  },
  {
   "cell_type": "markdown",
   "id": "architectural-master",
   "metadata": {},
   "source": [
    "\"\"\"\n",
    "Simple RNNs are not always enough when working with text data. Longer sequences, such as a paragraph, often are difficult to handle, as the simple RNN structure loses information about previous inputs fairly quickly.\n",
    "\n",
    "Long Short-Term Memory models, or LSTMs, help resolve this by keeping a “cell state” across time. These include a “forget gate”, where the cell can choose whether to keep or forget certain words to carry forward in the sequence.\n",
    "\n",
    "Another interesting aspect of LSTMs is that they can be bidirectional, meaning that information can be passed both forward (later in the text sequence) and backward (earlier in the text sequence).\n",
    "\"\"\""
   ]
  },
  {
   "cell_type": "markdown",
   "id": "exterior-trauma",
   "metadata": {},
   "source": [
    "#Constructing LSTMs in Code\n",
    "\n",
    "\"\"\"\n",
    "The code for an LSTM layer itself is just the LSTM layer from tf.keras.layers, with the number of LSTM cells to use. However, this is typically wrapped within a Bidirectional layer to make use of passing information both forward and backward in the network, as we noted on the previous page.\n",
    "\n",
    "# A bidirectional LSTM layer with 64 nodes\n",
    "tf.keras.layers.Bidirectional(tf.keras.layers.LSTM(64))\n",
    "One thing to note when using a Bidirectional layer is when you look at the model summary, if you put in 64 LSTM nodes, you will actually see a layer shape with 128 nodes (64x2).\n",
    "\"\"\"\n",
    "\n",
    "\"\"\"\n",
    "#No Need to Flatten\n",
    "Unlike our more vanilla neural networks in the last lesson, you no longer need to use Flatten or GlobalAveragePooling1D after the LSTM layer - the LSTM can take the output of an Embedding layer and directly hook up to a fully-connected Dense layer with its own output.\n",
    "\"\"\"\n",
    "\n",
    "\"\"\"\n",
    "#Doubling Up\n",
    "You can also feed an LSTM layer into another LSTM layer. To do so, on top of just stacking them in order when you create the model, you also need to set return_sequences to True for the earlier LSTM layer - otherwise, as noted above, the output will be ready for fully-connected layers and not be in the sequence format the LSTM layer expects.\n",
    "\n",
    "# Two bidirectional LSTM layers with 64 nodes each\n",
    "tf.keras.layers.Bidirectional(tf.keras.layers.LSTM(64), return_sequences=True)\n",
    "tf.keras.layers.Bidirectional(tf.keras.layers.LSTM(64))\n",
    "\"\"\""
   ]
  },
  {
   "cell_type": "markdown",
   "id": "divided-driving",
   "metadata": {},
   "source": []
  },
  {
   "cell_type": "code",
   "execution_count": 2,
   "id": "atlantic-pacific",
   "metadata": {},
   "outputs": [],
   "source": [
    "#Constructing LSTMs in Code\n",
    "\n",
    "#Using LSTMs with Subwords"
   ]
  },
  {
   "cell_type": "code",
   "execution_count": 6,
   "id": "sustainable-jerusalem",
   "metadata": {},
   "outputs": [
    {
     "data": {
      "text/html": [
       "<div>\n",
       "<style scoped>\n",
       "    .dataframe tbody tr th:only-of-type {\n",
       "        vertical-align: middle;\n",
       "    }\n",
       "\n",
       "    .dataframe tbody tr th {\n",
       "        vertical-align: top;\n",
       "    }\n",
       "\n",
       "    .dataframe thead th {\n",
       "        text-align: right;\n",
       "    }\n",
       "</style>\n",
       "<table border=\"1\" class=\"dataframe\">\n",
       "  <thead>\n",
       "    <tr style=\"text-align: right;\">\n",
       "      <th></th>\n",
       "      <th>Unnamed: 0</th>\n",
       "      <th>text</th>\n",
       "      <th>sentiment</th>\n",
       "    </tr>\n",
       "  </thead>\n",
       "  <tbody>\n",
       "    <tr>\n",
       "      <th>0</th>\n",
       "      <td>0</td>\n",
       "      <td>So there is no way for me to plug it in here i...</td>\n",
       "      <td>0</td>\n",
       "    </tr>\n",
       "    <tr>\n",
       "      <th>1</th>\n",
       "      <td>1</td>\n",
       "      <td>Good case Excellent value.</td>\n",
       "      <td>1</td>\n",
       "    </tr>\n",
       "    <tr>\n",
       "      <th>2</th>\n",
       "      <td>2</td>\n",
       "      <td>Great for the jawbone.</td>\n",
       "      <td>1</td>\n",
       "    </tr>\n",
       "    <tr>\n",
       "      <th>3</th>\n",
       "      <td>3</td>\n",
       "      <td>Tied to charger for conversations lasting more...</td>\n",
       "      <td>0</td>\n",
       "    </tr>\n",
       "    <tr>\n",
       "      <th>4</th>\n",
       "      <td>4</td>\n",
       "      <td>The mic is great.</td>\n",
       "      <td>1</td>\n",
       "    </tr>\n",
       "  </tbody>\n",
       "</table>\n",
       "</div>"
      ],
      "text/plain": [
       "   Unnamed: 0                                               text  sentiment\n",
       "0           0  So there is no way for me to plug it in here i...          0\n",
       "1           1                         Good case Excellent value.          1\n",
       "2           2                             Great for the jawbone.          1\n",
       "3           3  Tied to charger for conversations lasting more...          0\n",
       "4           4                                  The mic is great.          1"
      ]
     },
     "execution_count": 6,
     "metadata": {},
     "output_type": "execute_result"
    }
   ],
   "source": [
    "###NOT TO BE USED###\n",
    "\n",
    "#import\n",
    "import pandas as pd\n",
    "\n",
    "path = tf.keras.utils.get_file('reviews.csv', \n",
    "                               'https://drive.google.com/uc?id=13ySLC_ue6Umt9RJYSeM2t-V0kCv-4C-P')\n",
    "print (path)\n",
    "\n",
    "# Read the csv file\n",
    "dataset = pd.read_csv(path)\n",
    "\n",
    "# Review the first few entries in the dataset\n",
    "dataset.head()"
   ]
  },
  {
   "cell_type": "code",
   "execution_count": 3,
   "id": "executive-diploma",
   "metadata": {},
   "outputs": [],
   "source": [
    "###Using LSTMs with the subwords dataset\n",
    "\n",
    "\"\"\"\n",
    "In this colab, you'll compare the results of using a model with an Embedding layer and then adding bidirectional LSTM layers.\n",
    "\n",
    "You'll work with the dataset of subwords for the combined Yelp and Amazon reviews.\n",
    "\n",
    "You'll use your models to predict the sentiment of new reviews.\n",
    "\"\"\"\n",
    "\n",
    "import tensorflow as tf\n",
    "\n",
    "from tensorflow.keras.preprocessing.sequence import pad_sequences"
   ]
  },
  {
   "cell_type": "code",
   "execution_count": 36,
   "id": "disabled-presence",
   "metadata": {},
   "outputs": [],
   "source": [
    "\"\"\"\n",
    "Get the dataset\n",
    "Start by getting the dataset containing Amazon and Yelp reviews, with their related sentiment (1 for positive, 0 for negative). \n",
    "\"\"\"\n",
    "\n",
    "import pandas as pd\n",
    "\n",
    "dataset = pd.read_csv('C:/Users/fortn/anaconda3/combined_data.csv')\n",
    "\n",
    "# Just extract out sentences and labels first - we will create subwords here\n",
    "sentences = dataset['text'].tolist()\n",
    "labels = dataset['sentiment'].tolist()"
   ]
  },
  {
   "cell_type": "code",
   "execution_count": 37,
   "id": "funded-interstate",
   "metadata": {},
   "outputs": [
    {
     "name": "stdout",
     "output_type": "stream",
     "text": [
      "So there is no way for me to plug it in here in the US unless I go by a converter.\n",
      "0\n",
      "\n",
      "\n",
      "Good case Excellent value.\n",
      "1\n",
      "\n",
      "\n"
     ]
    }
   ],
   "source": [
    "# Print some example sentences and labels\n",
    "for x in range(2):\n",
    "  print(sentences[x])\n",
    "  print(labels[x])\n",
    "  print(\"\\n\")"
   ]
  },
  {
   "cell_type": "markdown",
   "id": "adjacent-jones",
   "metadata": {},
   "source": [
    "\"\"\"\n",
    "Create a subwords dataset\n",
    "We will use the Amazon and Yelp reviews dataset with tensorflow_datasets's SubwordTextEncoder functionality.\n",
    "\n",
    "SubwordTextEncoder.build_from_corpus() will create a tokenizer for us. You could also use this functionality to get subwords from a much larger corpus of text as well, but we'll just use our existing dataset here.\n",
    "\n",
    "We'll create a subword vocab_size of only the 1,000 most common subwords, as well as cutting off each subword to be at most 5 characters.\n",
    "\"\"\""
   ]
  },
  {
   "cell_type": "code",
   "execution_count": 9,
   "id": "prostate-prize",
   "metadata": {},
   "outputs": [
    {
     "name": "stdout",
     "output_type": "stream",
     "text": [
      "Vocab size is  999\n"
     ]
    }
   ],
   "source": [
    "import tensorflow_datasets as tfds\n",
    "\n",
    "vocab_size = 1000\n",
    "tokenizer = tfds.deprecated.text.SubwordTextEncoder.build_from_corpus(sentences, vocab_size, max_subword_length=5)\n",
    "\n",
    "# How big is the vocab size?\n",
    "print(\"Vocab size is \", tokenizer.vocab_size)"
   ]
  },
  {
   "cell_type": "code",
   "execution_count": 10,
   "id": "static-screen",
   "metadata": {},
   "outputs": [
    {
     "name": "stdout",
     "output_type": "stream",
     "text": [
      "I have to jiggle the plug to get it to line up right to get decent volume.\n",
      "[4, 31, 6, 849, 162, 450, 12, 1, 600, 438, 775, 6, 175, 14, 6, 55, 213, 159, 474, 775, 6, 175, 614, 380, 295, 148, 72, 789]\n"
     ]
    }
   ],
   "source": [
    "# Check that the tokenizer works appropriately\n",
    "num = 5\n",
    "print(sentences[num])\n",
    "encoded = tokenizer.encode(sentences[num])\n",
    "print(encoded)"
   ]
  },
  {
   "cell_type": "code",
   "execution_count": 11,
   "id": "least-intellectual",
   "metadata": {},
   "outputs": [
    {
     "name": "stdout",
     "output_type": "stream",
     "text": [
      "I \n",
      "have \n",
      "to \n",
      "j\n",
      "ig\n",
      "gl\n",
      "e \n",
      "the \n",
      "pl\n",
      "ug\n",
      " \n",
      "to \n",
      "get \n",
      "it \n",
      "to \n",
      "li\n",
      "ne \n",
      "up \n",
      "right\n",
      " \n",
      "to \n",
      "get \n",
      "dec\n",
      "ent \n",
      "vo\n",
      "lu\n",
      "me\n",
      ".\n"
     ]
    }
   ],
   "source": [
    "# Separately print out each subword, decoded\n",
    "for i in encoded:\n",
    "  print(tokenizer.decode([i]))"
   ]
  },
  {
   "cell_type": "code",
   "execution_count": null,
   "id": "virgin-public",
   "metadata": {},
   "outputs": [],
   "source": [
    "\"\"\"\n",
    "Replace sentence data with encoded subwords\n",
    "Now, we'll create the sequences to be used for training by actually encoding each of the individual sentences. This is equivalent to text_to_sequences with the Tokenizer we used in earlier exercises.\n",
    "\"\"\""
   ]
  },
  {
   "cell_type": "code",
   "execution_count": 12,
   "id": "running-penguin",
   "metadata": {},
   "outputs": [],
   "source": [
    "for i, sentence in enumerate(sentences):\n",
    "  sentences[i] = tokenizer.encode(sentence)"
   ]
  },
  {
   "cell_type": "code",
   "execution_count": 13,
   "id": "breeding-country",
   "metadata": {},
   "outputs": [
    {
     "name": "stdout",
     "output_type": "stream",
     "text": [
      "[4, 31, 6, 849, 162, 450, 12, 1, 600, 438, 775, 6, 175, 14, 6, 55, 213, 159, 474, 775, 6, 175, 614, 380, 295, 148, 72, 789]\n"
     ]
    }
   ],
   "source": [
    "# Check the sentences are appropriately replaced\n",
    "print(sentences[5])"
   ]
  },
  {
   "cell_type": "code",
   "execution_count": 17,
   "id": "brilliant-deviation",
   "metadata": {},
   "outputs": [],
   "source": [
    "\"\"\"\n",
    "Final pre-processing\n",
    "Before training, we still need to pad the sequences, as well as split into training and test sets.\n",
    "\"\"\"\n",
    "\n",
    "import numpy as np\n",
    "\n",
    "max_length = 50\n",
    "trunc_type='post'\n",
    "padding_type='post'\n",
    "\n",
    "# Pad all sequences\n",
    "sequences_padded = pad_sequences(sentences, maxlen=max_length, \n",
    "                                 padding=padding_type, truncating=trunc_type)\n",
    "\n",
    "# Separate out the sentences and labels into training and test sets\n",
    "training_size = int(len(sentences) * 0.8)\n",
    "\n",
    "training_sequences = sequences_padded[0:training_size]\n",
    "testing_sequences = sequences_padded[training_size:]\n",
    "training_labels = labels[0:training_size]\n",
    "testing_labels = labels[training_size:]\n",
    "\n",
    "# Make labels into numpy arrays for use with the network later\n",
    "training_labels_final = np.array(training_labels)\n",
    "testing_labels_final = np.array(testing_labels)"
   ]
  },
  {
   "cell_type": "code",
   "execution_count": 18,
   "id": "novel-brighton",
   "metadata": {},
   "outputs": [
    {
     "name": "stdout",
     "output_type": "stream",
     "text": [
      "Model: \"sequential\"\n",
      "_________________________________________________________________\n",
      "Layer (type)                 Output Shape              Param #   \n",
      "=================================================================\n",
      "embedding (Embedding)        (None, 50, 16)            16000     \n",
      "_________________________________________________________________\n",
      "global_average_pooling1d (Gl (None, 16)                0         \n",
      "_________________________________________________________________\n",
      "dense (Dense)                (None, 6)                 102       \n",
      "_________________________________________________________________\n",
      "dense_1 (Dense)              (None, 1)                 7         \n",
      "=================================================================\n",
      "Total params: 16,109\n",
      "Trainable params: 16,109\n",
      "Non-trainable params: 0\n",
      "_________________________________________________________________\n"
     ]
    }
   ],
   "source": [
    "###Create the model using an Embedding\n",
    "\n",
    "embedding_dim = 16\n",
    "\n",
    "model = tf.keras.Sequential([\n",
    "    tf.keras.layers.Embedding(vocab_size, embedding_dim, input_length=max_length),\n",
    "    tf.keras.layers.GlobalAveragePooling1D(), \n",
    "    tf.keras.layers.Dense(6, activation='relu'),\n",
    "    tf.keras.layers.Dense(1, activation='sigmoid')\n",
    "])\n",
    "\n",
    "model.summary()"
   ]
  },
  {
   "cell_type": "code",
   "execution_count": 19,
   "id": "defined-player",
   "metadata": {},
   "outputs": [
    {
     "name": "stdout",
     "output_type": "stream",
     "text": [
      "Epoch 1/30\n",
      "50/50 [==============================] - 5s 24ms/step - loss: 0.6931 - accuracy: 0.4966 - val_loss: 0.6928 - val_accuracy: 0.5013\n",
      "Epoch 2/30\n",
      "50/50 [==============================] - 0s 4ms/step - loss: 0.6904 - accuracy: 0.5865 - val_loss: 0.6871 - val_accuracy: 0.6566\n",
      "Epoch 3/30\n",
      "50/50 [==============================] - 0s 4ms/step - loss: 0.6838 - accuracy: 0.7182 - val_loss: 0.6790 - val_accuracy: 0.7293\n",
      "Epoch 4/30\n",
      "50/50 [==============================] - 0s 3ms/step - loss: 0.6725 - accuracy: 0.7075 - val_loss: 0.6670 - val_accuracy: 0.7393\n",
      "Epoch 5/30\n",
      "50/50 [==============================] - 0s 3ms/step - loss: 0.6536 - accuracy: 0.7822 - val_loss: 0.6489 - val_accuracy: 0.7444\n",
      "Epoch 6/30\n",
      "50/50 [==============================] - 0s 3ms/step - loss: 0.6331 - accuracy: 0.7729 - val_loss: 0.6289 - val_accuracy: 0.7519\n",
      "Epoch 7/30\n",
      "50/50 [==============================] - 0s 3ms/step - loss: 0.6062 - accuracy: 0.8069 - val_loss: 0.6084 - val_accuracy: 0.7644\n",
      "Epoch 8/30\n",
      "50/50 [==============================] - 0s 4ms/step - loss: 0.5680 - accuracy: 0.8417 - val_loss: 0.5939 - val_accuracy: 0.7719\n",
      "Epoch 9/30\n",
      "50/50 [==============================] - 0s 4ms/step - loss: 0.5366 - accuracy: 0.8282 - val_loss: 0.5718 - val_accuracy: 0.7694\n",
      "Epoch 10/30\n",
      "50/50 [==============================] - 0s 3ms/step - loss: 0.5031 - accuracy: 0.8661 - val_loss: 0.5526 - val_accuracy: 0.7845\n",
      "Epoch 11/30\n",
      "50/50 [==============================] - 0s 3ms/step - loss: 0.4725 - accuracy: 0.8546 - val_loss: 0.5430 - val_accuracy: 0.7669\n",
      "Epoch 12/30\n",
      "50/50 [==============================] - 0s 3ms/step - loss: 0.4329 - accuracy: 0.8678 - val_loss: 0.5250 - val_accuracy: 0.7794\n",
      "Epoch 13/30\n",
      "50/50 [==============================] - 0s 3ms/step - loss: 0.3911 - accuracy: 0.8959 - val_loss: 0.5241 - val_accuracy: 0.7569\n",
      "Epoch 14/30\n",
      "50/50 [==============================] - 0s 3ms/step - loss: 0.3731 - accuracy: 0.8857 - val_loss: 0.5082 - val_accuracy: 0.7794\n",
      "Epoch 15/30\n",
      "50/50 [==============================] - 0s 3ms/step - loss: 0.3436 - accuracy: 0.8956 - val_loss: 0.5295 - val_accuracy: 0.7318\n",
      "Epoch 16/30\n",
      "50/50 [==============================] - 0s 4ms/step - loss: 0.3207 - accuracy: 0.8859 - val_loss: 0.4965 - val_accuracy: 0.7744\n",
      "Epoch 17/30\n",
      "50/50 [==============================] - 0s 4ms/step - loss: 0.3065 - accuracy: 0.9101 - val_loss: 0.5178 - val_accuracy: 0.7494\n",
      "Epoch 18/30\n",
      "50/50 [==============================] - 0s 3ms/step - loss: 0.2851 - accuracy: 0.9128 - val_loss: 0.5062 - val_accuracy: 0.7644\n",
      "Epoch 19/30\n",
      "50/50 [==============================] - 0s 3ms/step - loss: 0.2711 - accuracy: 0.9176 - val_loss: 0.5081 - val_accuracy: 0.7569\n",
      "Epoch 20/30\n",
      "50/50 [==============================] - 0s 4ms/step - loss: 0.2539 - accuracy: 0.9119 - val_loss: 0.5163 - val_accuracy: 0.7519\n",
      "Epoch 21/30\n",
      "50/50 [==============================] - 0s 3ms/step - loss: 0.2508 - accuracy: 0.9152 - val_loss: 0.5184 - val_accuracy: 0.7569\n",
      "Epoch 22/30\n",
      "50/50 [==============================] - 0s 3ms/step - loss: 0.2338 - accuracy: 0.9289 - val_loss: 0.5179 - val_accuracy: 0.7594\n",
      "Epoch 23/30\n",
      "50/50 [==============================] - 0s 3ms/step - loss: 0.2250 - accuracy: 0.9358 - val_loss: 0.5456 - val_accuracy: 0.7519\n",
      "Epoch 24/30\n",
      "50/50 [==============================] - 0s 3ms/step - loss: 0.2081 - accuracy: 0.9308 - val_loss: 0.5432 - val_accuracy: 0.7419\n",
      "Epoch 25/30\n",
      "50/50 [==============================] - 0s 3ms/step - loss: 0.1959 - accuracy: 0.9375 - val_loss: 0.5436 - val_accuracy: 0.7519\n",
      "Epoch 26/30\n",
      "50/50 [==============================] - 0s 3ms/step - loss: 0.1906 - accuracy: 0.9505 - val_loss: 0.5564 - val_accuracy: 0.7469\n",
      "Epoch 27/30\n",
      "50/50 [==============================] - 0s 3ms/step - loss: 0.1824 - accuracy: 0.9475 - val_loss: 0.5747 - val_accuracy: 0.7494\n",
      "Epoch 28/30\n",
      "50/50 [==============================] - 0s 4ms/step - loss: 0.1971 - accuracy: 0.9411 - val_loss: 0.5812 - val_accuracy: 0.7494\n",
      "Epoch 29/30\n",
      "50/50 [==============================] - 0s 4ms/step - loss: 0.1654 - accuracy: 0.9573 - val_loss: 0.5918 - val_accuracy: 0.7419\n",
      "Epoch 30/30\n",
      "50/50 [==============================] - 0s 4ms/step - loss: 0.1685 - accuracy: 0.9549 - val_loss: 0.6013 - val_accuracy: 0.7469\n"
     ]
    }
   ],
   "source": [
    "###Train the model\n",
    "\n",
    "num_epochs = 30\n",
    "model.compile(loss='binary_crossentropy',optimizer='adam',metrics=['accuracy'])\n",
    "history = model.fit(training_sequences, training_labels_final, epochs=num_epochs, validation_data=(testing_sequences, testing_labels_final))"
   ]
  },
  {
   "cell_type": "code",
   "execution_count": 20,
   "id": "micro-cleaner",
   "metadata": {},
   "outputs": [
    {
     "data": {
      "image/png": "[encoded data removed]",
      "text/plain": [
       "<Figure size 432x288 with 1 Axes>"
      ]
     },
     "metadata": {
      "needs_background": "light"
     },
     "output_type": "display_data"
    },
    {
     "data": {
      "image/png": "[encoded data removed]",
      "text/plain": [
       "<Figure size 432x288 with 1 Axes>"
      ]
     },
     "metadata": {
      "needs_background": "light"
     },
     "output_type": "display_data"
    }
   ],
   "source": [
    "###Plot the accuracy and loss\n",
    "\n",
    "import matplotlib.pyplot as plt\n",
    "\n",
    "\n",
    "def plot_graphs(history, string):\n",
    "  plt.plot(history.history[string])\n",
    "  plt.plot(history.history['val_'+string])\n",
    "  plt.xlabel(\"Epochs\")\n",
    "  plt.ylabel(string)\n",
    "  plt.legend([string, 'val_'+string])\n",
    "  plt.show()\n",
    "  \n",
    "plot_graphs(history, \"accuracy\")\n",
    "plot_graphs(history, \"loss\")"
   ]
  },
  {
   "cell_type": "code",
   "execution_count": 21,
   "id": "proud-titanium",
   "metadata": {},
   "outputs": [],
   "source": [
    "\"\"\"\n",
    "Define a function to predict the sentiment of reviews\n",
    "We'll be creating models with some differences and will use each model to predict the sentiment of some new reviews.\n",
    "\n",
    "To save time, create a function that will take in a model and some new reviews, and print out the sentiment of each reviews.\n",
    "\n",
    "The higher the sentiment value is to 1, the more positive the review is.\n",
    "\"\"\"\n",
    "\n",
    "# Define a function to take a series of reviews\n",
    "# and predict whether each one is a positive or negative review\n",
    "\n",
    "# max_length = 100 # previously defined\n",
    "\n",
    "def predict_review(model, new_sentences, maxlen=max_length, show_padded_sequence=True ):\n",
    "  # Keep the original sentences so that we can keep using them later\n",
    "  # Create an array to hold the encoded sequences\n",
    "  new_sequences = []\n",
    "\n",
    "  # Convert the new reviews to sequences\n",
    "  for i, frvw in enumerate(new_sentences):\n",
    "    new_sequences.append(tokenizer.encode(frvw))\n",
    "\n",
    "  trunc_type='post' \n",
    "  padding_type='post'\n",
    "\n",
    "  # Pad all sequences for the new reviews\n",
    "  new_reviews_padded = pad_sequences(new_sequences, maxlen=max_length, \n",
    "                                 padding=padding_type, truncating=trunc_type)             \n",
    "\n",
    "  classes = model.predict(new_reviews_padded)\n",
    "\n",
    "  # The closer the class is to 1, the more positive the review is\n",
    "  for x in range(len(new_sentences)):\n",
    "    \n",
    "    # We can see the padded sequence if desired\n",
    "    # Print the sequence\n",
    "    if (show_padded_sequence):\n",
    "      print(new_reviews_padded[x])\n",
    "    # Print the review as text\n",
    "    print(new_sentences[x])\n",
    "    # Print its predicted class\n",
    "    print(classes[x])\n",
    "    print(\"\\n\")"
   ]
  },
  {
   "cell_type": "code",
   "execution_count": 22,
   "id": "helpful-institute",
   "metadata": {},
   "outputs": [
    {
     "name": "stdout",
     "output_type": "stream",
     "text": [
      "[  4 281  16  25   0   0   0   0   0   0   0   0   0   0   0   0   0   0\n",
      "   0   0   0   0   0   0   0   0   0   0   0   0   0   0   0   0   0   0\n",
      "   0   0   0   0   0   0   0   0   0   0   0   0   0   0]\n",
      "I love this phone\n",
      "[0.8961266]\n",
      "\n",
      "\n",
      "[812 227 864 100 775   9 525 843   0   0   0   0   0   0   0   0   0   0\n",
      "   0   0   0   0   0   0   0   0   0   0   0   0   0   0   0   0   0   0\n",
      "   0   0   0   0   0   0   0   0   0   0   0   0   0   0]\n",
      "Everything was cold\n",
      "[0.08416119]\n",
      "\n",
      "\n",
      "[812 227 864 100 775   9 109   8 333 731  24  61   4 171  59  77   0   0\n",
      "   0   0   0   0   0   0   0   0   0   0   0   0   0   0   0   0   0   0\n",
      "   0   0   0   0   0   0   0   0   0   0   0   0   0   0]\n",
      "Everything was hot exactly as I wanted\n",
      "[0.31972966]\n",
      "\n",
      "\n",
      "[812 227 864 100 775   9 157 359 853   0   0   0   0   0   0   0   0   0\n",
      "   0   0   0   0   0   0   0   0   0   0   0   0   0   0   0   0   0   0\n",
      "   0   0   0   0   0   0   0   0   0   0   0   0   0   0]\n",
      "Everything was green\n",
      "[0.09132406]\n",
      "\n",
      "\n",
      "[  1 109 228 540 237 635 241 423 340  89 298   0   0   0   0   0   0   0\n",
      "   0   0   0   0   0   0   0   0   0   0   0   0   0   0   0   0   0   0\n",
      "   0   0   0   0   0   0   0   0   0   0   0   0   0   0]\n",
      "the host seated us immediately\n",
      "[0.54817635]\n",
      "\n",
      "\n",
      "[154 242  47 635 341  12 569 547 147 319 775 125  85   0   0   0   0   0\n",
      "   0   0   0   0   0   0   0   0   0   0   0   0   0   0   0   0   0   0\n",
      "   0   0   0   0   0   0   0   0   0   0   0   0   0   0]\n",
      "they gave us free chocolate cake\n",
      "[0.6989794]\n",
      "\n",
      "\n",
      "[158 190 853 782   8 607 775 210 232 146 775 470  67 305 101  15   1 328\n",
      " 296  26  19   1 661 641 195   0   0   0   0   0   0   0   0   0   0   0\n",
      "   0   0   0   0   0   0   0   0   0   0   0   0   0   0]\n",
      "we couldn't hear each other talk because of the shouting in the kitchen\n",
      "[0.01377928]\n",
      "\n",
      "\n"
     ]
    }
   ],
   "source": [
    "# Use the model to predict some reviews   \n",
    "fake_reviews = [\"I love this phone\", \n",
    "                \"Everything was cold\",\n",
    "                \"Everything was hot exactly as I wanted\", \n",
    "                \"Everything was green\", \n",
    "                \"the host seated us immediately\",\n",
    "                \"they gave us free chocolate cake\", \n",
    "                \"we couldn't hear each other talk because of the shouting in the kitchen\"\n",
    "              ]\n",
    "\n",
    "predict_review(model, fake_reviews)"
   ]
  },
  {
   "cell_type": "code",
   "execution_count": 23,
   "id": "adapted-chicken",
   "metadata": {},
   "outputs": [],
   "source": [
    "\"\"\"\n",
    "Define a function to train and show the results of models with different layers\n",
    "In the rest of this colab, we will define models, and then see the results.\n",
    "\n",
    "Define a function that will take the model, compile it, train it, graph the accuracy and loss, and then predict some results.\n",
    "\"\"\"\n",
    "\n",
    "def fit_model_now (model, sentences) :\n",
    "  model.compile(loss='binary_crossentropy',optimizer='adam',metrics=['accuracy'])\n",
    "  model.summary()\n",
    "  history = model.fit(training_sequences, training_labels_final, epochs=num_epochs, \n",
    "                      validation_data=(testing_sequences, testing_labels_final))\n",
    "  return history\n",
    "\n",
    "def plot_results (history):\n",
    "  plot_graphs(history, \"accuracy\")\n",
    "  plot_graphs(history, \"loss\")\n",
    "\n",
    "def fit_model_and_show_results (model, sentences):\n",
    "  history = fit_model_now(model, sentences)\n",
    "  plot_results(history)\n",
    "  predict_review(model, sentences)"
   ]
  },
  {
   "cell_type": "code",
   "execution_count": 24,
   "id": "earned-rebel",
   "metadata": {},
   "outputs": [
    {
     "name": "stdout",
     "output_type": "stream",
     "text": [
      "Model: \"sequential_1\"\n",
      "_________________________________________________________________\n",
      "Layer (type)                 Output Shape              Param #   \n",
      "=================================================================\n",
      "embedding_1 (Embedding)      (None, 50, 16)            16000     \n",
      "_________________________________________________________________\n",
      "bidirectional (Bidirectional (None, 32)                4224      \n",
      "_________________________________________________________________\n",
      "dense_2 (Dense)              (None, 6)                 198       \n",
      "_________________________________________________________________\n",
      "dense_3 (Dense)              (None, 1)                 7         \n",
      "=================================================================\n",
      "Total params: 20,429\n",
      "Trainable params: 20,429\n",
      "Non-trainable params: 0\n",
      "_________________________________________________________________\n",
      "Epoch 1/30\n",
      "50/50 [==============================] - 10s 60ms/step - loss: 0.6921 - accuracy: 0.5286 - val_loss: 0.6916 - val_accuracy: 0.4737\n",
      "Epoch 2/30\n",
      "50/50 [==============================] - 1s 29ms/step - loss: 0.6603 - accuracy: 0.6483 - val_loss: 0.6290 - val_accuracy: 0.6115\n",
      "Epoch 3/30\n",
      "50/50 [==============================] - 1s 29ms/step - loss: 0.5135 - accuracy: 0.8088 - val_loss: 0.4950 - val_accuracy: 0.7769\n",
      "Epoch 4/30\n",
      "50/50 [==============================] - 2s 37ms/step - loss: 0.3794 - accuracy: 0.8565 - val_loss: 0.5581 - val_accuracy: 0.7293\n",
      "Epoch 5/30\n",
      "50/50 [==============================] - 2s 32ms/step - loss: 0.2784 - accuracy: 0.8954 - val_loss: 0.5335 - val_accuracy: 0.7644\n",
      "Epoch 6/30\n",
      "50/50 [==============================] - 2s 38ms/step - loss: 0.2377 - accuracy: 0.9205 - val_loss: 0.7062 - val_accuracy: 0.7494\n",
      "Epoch 7/30\n",
      "50/50 [==============================] - 2s 34ms/step - loss: 0.1909 - accuracy: 0.9425 - val_loss: 0.6916 - val_accuracy: 0.7544\n",
      "Epoch 8/30\n",
      "50/50 [==============================] - 2s 36ms/step - loss: 0.1640 - accuracy: 0.9458 - val_loss: 0.6374 - val_accuracy: 0.7544\n",
      "Epoch 9/30\n",
      "50/50 [==============================] - 2s 44ms/step - loss: 0.1482 - accuracy: 0.9639 - val_loss: 0.8248 - val_accuracy: 0.7469\n",
      "Epoch 10/30\n",
      "50/50 [==============================] - 2s 42ms/step - loss: 0.1028 - accuracy: 0.9729 - val_loss: 0.8716 - val_accuracy: 0.7569\n",
      "Epoch 11/30\n",
      "50/50 [==============================] - 2s 32ms/step - loss: 0.1057 - accuracy: 0.9777 - val_loss: 0.8454 - val_accuracy: 0.7669\n",
      "Epoch 12/30\n",
      "50/50 [==============================] - 2s 33ms/step - loss: 0.0804 - accuracy: 0.9773 - val_loss: 0.9289 - val_accuracy: 0.7444\n",
      "Epoch 13/30\n",
      "50/50 [==============================] - 2s 30ms/step - loss: 0.0618 - accuracy: 0.9830 - val_loss: 0.9982 - val_accuracy: 0.7343\n",
      "Epoch 14/30\n",
      "50/50 [==============================] - 1s 29ms/step - loss: 0.0595 - accuracy: 0.9860 - val_loss: 1.0476 - val_accuracy: 0.7469\n",
      "Epoch 15/30\n",
      "50/50 [==============================] - 2s 32ms/step - loss: 0.0369 - accuracy: 0.9944 - val_loss: 1.0613 - val_accuracy: 0.7494\n",
      "Epoch 16/30\n",
      "50/50 [==============================] - 1s 29ms/step - loss: 0.0327 - accuracy: 0.9950 - val_loss: 1.1720 - val_accuracy: 0.7419\n",
      "Epoch 17/30\n",
      "50/50 [==============================] - 1s 29ms/step - loss: 0.0253 - accuracy: 0.9957 - val_loss: 1.2163 - val_accuracy: 0.7368\n",
      "Epoch 18/30\n",
      "50/50 [==============================] - 2s 33ms/step - loss: 0.0208 - accuracy: 0.9968 - val_loss: 1.2540 - val_accuracy: 0.7469\n",
      "Epoch 19/30\n",
      "50/50 [==============================] - 2s 32ms/step - loss: 0.0138 - accuracy: 0.9982 - val_loss: 1.2794 - val_accuracy: 0.7469\n",
      "Epoch 20/30\n",
      "50/50 [==============================] - 2s 31ms/step - loss: 0.0071 - accuracy: 0.9997 - val_loss: 1.3774 - val_accuracy: 0.7494\n",
      "Epoch 21/30\n",
      "50/50 [==============================] - 1s 29ms/step - loss: 0.0099 - accuracy: 0.9980 - val_loss: 1.3864 - val_accuracy: 0.7193\n",
      "Epoch 22/30\n",
      "50/50 [==============================] - 1s 29ms/step - loss: 0.0489 - accuracy: 0.9853 - val_loss: 1.2763 - val_accuracy: 0.7544\n",
      "Epoch 23/30\n",
      "50/50 [==============================] - 1s 29ms/step - loss: 0.0170 - accuracy: 0.9967 - val_loss: 1.3777 - val_accuracy: 0.7494\n",
      "Epoch 24/30\n",
      "50/50 [==============================] - 1s 30ms/step - loss: 0.0207 - accuracy: 0.9962 - val_loss: 1.3193 - val_accuracy: 0.7368\n",
      "Epoch 25/30\n",
      "50/50 [==============================] - 1s 29ms/step - loss: 0.0320 - accuracy: 0.9880 - val_loss: 1.4197 - val_accuracy: 0.7343\n",
      "Epoch 26/30\n",
      "50/50 [==============================] - 1s 29ms/step - loss: 0.0127 - accuracy: 0.9959 - val_loss: 1.3991 - val_accuracy: 0.7393\n",
      "Epoch 27/30\n",
      "50/50 [==============================] - 1s 29ms/step - loss: 0.0061 - accuracy: 1.0000 - val_loss: 1.4968 - val_accuracy: 0.7469\n",
      "Epoch 28/30\n",
      "50/50 [==============================] - 1s 30ms/step - loss: 0.0048 - accuracy: 1.0000 - val_loss: 1.5273 - val_accuracy: 0.7419\n",
      "Epoch 29/30\n",
      "50/50 [==============================] - 2s 34ms/step - loss: 0.0039 - accuracy: 1.0000 - val_loss: 1.5707 - val_accuracy: 0.7419\n",
      "Epoch 30/30\n",
      "50/50 [==============================] - 2s 32ms/step - loss: 0.0031 - accuracy: 1.0000 - val_loss: 1.6168 - val_accuracy: 0.7368\n"
     ]
    },
    {
     "data": {
      "image/png": "[encoded data removed]",
      "text/plain": [
       "<Figure size 432x288 with 1 Axes>"
      ]
     },
     "metadata": {
      "needs_background": "light"
     },
     "output_type": "display_data"
    },
    {
     "data": {
      "image/png": "[encoded data removed]",
      "text/plain": [
       "<Figure size 432x288 with 1 Axes>"
      ]
     },
     "metadata": {
      "needs_background": "light"
     },
     "output_type": "display_data"
    },
    {
     "name": "stdout",
     "output_type": "stream",
     "text": [
      "[  4 281  16  25   0   0   0   0   0   0   0   0   0   0   0   0   0   0\n",
      "   0   0   0   0   0   0   0   0   0   0   0   0   0   0   0   0   0   0\n",
      "   0   0   0   0   0   0   0   0   0   0   0   0   0   0]\n",
      "I love this phone\n",
      "[0.9974514]\n",
      "\n",
      "\n",
      "[812 227 864 100 775   9 525 843   0   0   0   0   0   0   0   0   0   0\n",
      "   0   0   0   0   0   0   0   0   0   0   0   0   0   0   0   0   0   0\n",
      "   0   0   0   0   0   0   0   0   0   0   0   0   0   0]\n",
      "Everything was cold\n",
      "[0.0002504]\n",
      "\n",
      "\n",
      "[812 227 864 100 775   9 109   8 333 731  24  61   4 171  59  77   0   0\n",
      "   0   0   0   0   0   0   0   0   0   0   0   0   0   0   0   0   0   0\n",
      "   0   0   0   0   0   0   0   0   0   0   0   0   0   0]\n",
      "Everything was hot exactly as I wanted\n",
      "[0.7397736]\n",
      "\n",
      "\n",
      "[812 227 864 100 775   9 157 359 853   0   0   0   0   0   0   0   0   0\n",
      "   0   0   0   0   0   0   0   0   0   0   0   0   0   0   0   0   0   0\n",
      "   0   0   0   0   0   0   0   0   0   0   0   0   0   0]\n",
      "Everything was green\n",
      "[0.00764859]\n",
      "\n",
      "\n",
      "[  1 109 228 540 237 635 241 423 340  89 298   0   0   0   0   0   0   0\n",
      "   0   0   0   0   0   0   0   0   0   0   0   0   0   0   0   0   0   0\n",
      "   0   0   0   0   0   0   0   0   0   0   0   0   0   0]\n",
      "the host seated us immediately\n",
      "[0.9986007]\n",
      "\n",
      "\n",
      "[154 242  47 635 341  12 569 547 147 319 775 125  85   0   0   0   0   0\n",
      "   0   0   0   0   0   0   0   0   0   0   0   0   0   0   0   0   0   0\n",
      "   0   0   0   0   0   0   0   0   0   0   0   0   0   0]\n",
      "they gave us free chocolate cake\n",
      "[0.98202884]\n",
      "\n",
      "\n",
      "[158 190 853 782   8 607 775 210 232 146 775 470  67 305 101  15   1 328\n",
      " 296  26  19   1 661 641 195   0   0   0   0   0   0   0   0   0   0   0\n",
      "   0   0   0   0   0   0   0   0   0   0   0   0   0   0]\n",
      "we couldn't hear each other talk because of the shouting in the kitchen\n",
      "[1.0069529e-05]\n",
      "\n",
      "\n"
     ]
    }
   ],
   "source": [
    "\"\"\"\n",
    "Add a bidirectional LSTM\n",
    "Create a new model that uses a bidirectional LSTM.\n",
    "\n",
    "Then use the function we have already defined to compile the model, train it, graph the accuracy and loss, then predict some results.\n",
    "\"\"\"\n",
    "\n",
    "# Define the model\n",
    "model_bidi_lstm = tf.keras.Sequential([\n",
    "    tf.keras.layers.Embedding(vocab_size, embedding_dim, input_length=max_length),\n",
    "    tf.keras.layers.Bidirectional(tf.keras.layers.LSTM(embedding_dim)), \n",
    "    tf.keras.layers.Dense(6, activation='relu'), \n",
    "    tf.keras.layers.Dense(1, activation='sigmoid')\n",
    "])\n",
    "\n",
    "# Compile and train the model and then show the predictions for our extra sentences\n",
    "fit_model_and_show_results(model_bidi_lstm, fake_reviews)\n"
   ]
  },
  {
   "cell_type": "code",
   "execution_count": null,
   "id": "incident-occupation",
   "metadata": {},
   "outputs": [],
   "source": [
    "\"\"\"\n",
    "Compare predictions for all the models\n",
    "It can be hard to see which model gives a better prediction for different reviews when you examine each model separately. So for comparison purposes, here we define some more reviews and print out the predictions that each of the three models gives for each review:\n",
    "\n",
    "Embeddings and a Global Average Pooling layer\n",
    "Embeddings and a Bidirectional LSTM layer\n",
    "Embeddings and two Bidirectional LSTM layers\n",
    "The results are not always what you might expect. The input dataset is fairly small, it has less than 2000 reviews. Some of the reviews are fairly short, and some of the short ones are fairly repetitive which reduces their impact on improving the model, such as these two reviews:\n",
    "\n",
    "Bad Quality.\n",
    "Low Quality.\n",
    "Feel free to add more reviews of your own, or change the reviews. The results will depend on the combination of words in the reviews, and how well they match to reviews in the training set.\n",
    "\"\"\""
   ]
  },
  {
   "cell_type": "code",
   "execution_count": 25,
   "id": "frank-sauce",
   "metadata": {},
   "outputs": [],
   "source": [
    "my_reviews =[\"lovely\", \"dreadful\", \"stay away\",\n",
    "             \"everything was hot exactly as I wanted\",\n",
    "             \"everything was not exactly as I wanted\",\n",
    "             \"they gave us free chocolate cake\",\n",
    "             \"I've never eaten anything so spicy in my life, my throat burned for hours\",\n",
    "             \"for a phone that is as expensive as this one I expect it to be much easier to use than this thing is\",\n",
    "             \"we left there very full for a low price so I'd say you just can't go wrong at this place\",\n",
    "             \"that place does not have quality meals and it isn't a good place to go for dinner\",\n",
    "             ]"
   ]
  },
  {
   "cell_type": "code",
   "execution_count": 26,
   "id": "elegant-organization",
   "metadata": {},
   "outputs": [
    {
     "name": "stdout",
     "output_type": "stream",
     "text": [
      "===================================\n",
      " Embeddings only:\n",
      " ===================================\n",
      "lovely\n",
      "[0.92551625]\n",
      "\n",
      "\n",
      "dreadful\n",
      "[0.25834972]\n",
      "\n",
      "\n",
      "stay away\n",
      "[0.61609364]\n",
      "\n",
      "\n",
      "everything was hot exactly as I wanted\n",
      "[0.74045444]\n",
      "\n",
      "\n",
      "everything was not exactly as I wanted\n",
      "[0.4779954]\n",
      "\n",
      "\n",
      "they gave us free chocolate cake\n",
      "[0.6989794]\n",
      "\n",
      "\n",
      "I've never eaten anything so spicy in my life, my throat burned for hours\n",
      "[0.01529682]\n",
      "\n",
      "\n",
      "for a phone that is as expensive as this one I expect it to be much easier to use than this thing is\n",
      "[0.64953727]\n",
      "\n",
      "\n",
      "we left there very full for a low price so I'd say you just can't go wrong at this place\n",
      "[0.7241044]\n",
      "\n",
      "\n",
      "that place does not have quality meals and it isn't a good place to go for dinner\n",
      "[0.8264574]\n",
      "\n",
      "\n"
     ]
    }
   ],
   "source": [
    "print(\"===================================\\n\",\"Embeddings only:\\n\", \"===================================\",)\n",
    "predict_review(model, my_reviews, show_padded_sequence=False)"
   ]
  },
  {
   "cell_type": "code",
   "execution_count": 27,
   "id": "regional-aruba",
   "metadata": {},
   "outputs": [
    {
     "name": "stdout",
     "output_type": "stream",
     "text": [
      "===================================\n",
      " With a single bidirectional LSTM:\n",
      " ===================================\n",
      "lovely\n",
      "[0.97579813]\n",
      "\n",
      "\n",
      "dreadful\n",
      "[0.00201425]\n",
      "\n",
      "\n",
      "stay away\n",
      "[0.13684458]\n",
      "\n",
      "\n",
      "everything was hot exactly as I wanted\n",
      "[0.99352866]\n",
      "\n",
      "\n",
      "everything was not exactly as I wanted\n",
      "[0.35134333]\n",
      "\n",
      "\n",
      "they gave us free chocolate cake\n",
      "[0.98202884]\n",
      "\n",
      "\n",
      "I've never eaten anything so spicy in my life, my throat burned for hours\n",
      "[0.99731624]\n",
      "\n",
      "\n",
      "for a phone that is as expensive as this one I expect it to be much easier to use than this thing is\n",
      "[0.96400094]\n",
      "\n",
      "\n",
      "we left there very full for a low price so I'd say you just can't go wrong at this place\n",
      "[0.97615784]\n",
      "\n",
      "\n",
      "that place does not have quality meals and it isn't a good place to go for dinner\n",
      "[0.968276]\n",
      "\n",
      "\n"
     ]
    }
   ],
   "source": [
    "print(\"===================================\\n\", \"With a single bidirectional LSTM:\\n\", \"===================================\")\n",
    "predict_review(model_bidi_lstm, my_reviews, show_padded_sequence=False)"
   ]
  },
  {
   "cell_type": "code",
   "execution_count": 29,
   "id": "split-cameroon",
   "metadata": {},
   "outputs": [
    {
     "name": "stdout",
     "output_type": "stream",
     "text": [
      "===================================\n",
      " With two bidirectional LSTMs:\n",
      " ===================================\n"
     ]
    },
    {
     "ename": "NameError",
     "evalue": "name 'model_multiple_bidi_lstm' is not defined",
     "output_type": "error",
     "traceback": [
      "\u001b[1;31m---------------------------------------------------------------------------\u001b[0m",
      "\u001b[1;31mNameError\u001b[0m                                 Traceback (most recent call last)",
      "\u001b[1;32m<ipython-input-29-7e7dabbb7ab8>\u001b[0m in \u001b[0;36m<module>\u001b[1;34m\u001b[0m\n\u001b[0;32m      1\u001b[0m \u001b[0mprint\u001b[0m\u001b[1;33m(\u001b[0m\u001b[1;34m\"===================================\\n\"\u001b[0m\u001b[1;33m,\u001b[0m\u001b[1;34m\"With two bidirectional LSTMs:\\n\"\u001b[0m\u001b[1;33m,\u001b[0m \u001b[1;34m\"===================================\"\u001b[0m\u001b[1;33m)\u001b[0m\u001b[1;33m\u001b[0m\u001b[1;33m\u001b[0m\u001b[0m\n\u001b[1;32m----> 2\u001b[1;33m \u001b[0mpredict_review\u001b[0m\u001b[1;33m(\u001b[0m\u001b[0mmodel_multiple_bidi_lstm\u001b[0m\u001b[1;33m,\u001b[0m \u001b[0mmy_reviews\u001b[0m\u001b[1;33m,\u001b[0m \u001b[0mshow_padded_sequence\u001b[0m\u001b[1;33m=\u001b[0m\u001b[1;32mFalse\u001b[0m\u001b[1;33m)\u001b[0m\u001b[1;33m\u001b[0m\u001b[1;33m\u001b[0m\u001b[0m\n\u001b[0m",
      "\u001b[1;31mNameError\u001b[0m: name 'model_multiple_bidi_lstm' is not defined"
     ]
    }
   ],
   "source": [
    "print(\"===================================\\n\",\"With two bidirectional LSTMs:\\n\", \"===================================\")\n",
    "predict_review(model_multiple_bidi_lstm, my_reviews, show_padded_sequence=False)"
   ]
  },
  {
   "cell_type": "code",
   "execution_count": null,
   "id": "experienced-quick",
   "metadata": {},
   "outputs": [],
   "source": []
  }
 ],
 "metadata": {
  "kernelspec": {
   "display_name": "Python 3",
   "language": "python",
   "name": "python3"
  },
  "language_info": {
   "codemirror_mode": {
    "name": "ipython",
    "version": 3
   },
   "file_extension": ".py",
   "mimetype": "text/x-python",
   "name": "python",
   "nbconvert_exporter": "python",
   "pygments_lexer": "ipython3",
   "version": "3.8.5"
  }
 },
 "nbformat": 4,
 "nbformat_minor": 5
}
