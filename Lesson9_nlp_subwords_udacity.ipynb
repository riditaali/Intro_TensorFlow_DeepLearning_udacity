{
 "cells": [
  {
   "cell_type": "markdown",
   "id": "liberal-roots",
   "metadata": {},
   "source": [
    "\"\"\"\n",
    "We’ve worked with full words before for our sentiment models, and Jocelyn had shown us some issues right at the start of the lesson when using character-based tokenization. Subwords are another approach, where individual words are broken up into the more commonly appearing pieces of themselves. This helps avoid marking very rare words as OOV when you use only the most common words in a corpus.\n",
    "\n",
    "As shown in the video, this can further expose an issue affecting all of our models up to this point, in that they don’t understand the full context of the sequence of words in an input. The next lesson on recurrent neural networks will help address this issue.\n",
    "\n",
    "The example subwords from the video breaking out Decent, Decadent and Decay.\n",
    "Our example subwords using Decent, Decadent and Decay.\n",
    "\n",
    "Subword Datasets\n",
    "There are a number of already created subwords datasets available online. If you check out the IMDB dataset on TFDS, for instance, by scrolling down you can see datasets with both 8,000 subwords as well as 32,000 subwords in a corpus (along with regular full-word datasets).\n",
    "\n",
    "However, I want you to know how to create these yourself as well, so we’ll use TensorFlow’s SubwordTextEncoder and its build_from_corpus function to create one from the reviews dataset we used previously.\n",
    "\n",
    "Subwords are:\n",
    "Pieces of words, often made up of smaller words, that make words with similar roots be tokenized more similarly.\n",
    "\n",
    "If you’re interested in more work with subwords, there’s an unofficial Google repository called SentencePiece <https://github.com/google/sentencepiece> that contains some interesting techniques for improved creation of the subwords dataset from an original text dataset.\n",
    "\n",
    "\"\"\""
   ]
  },
  {
   "cell_type": "markdown",
   "id": "toxic-barrier",
   "metadata": {},
   "source": [
    "###What's in a (sub)word?\n",
    "\n",
    "#In this colab, we'll work with subwords, or words made up of the pieces of larger words, and see how that impacts our network and related embeddings."
   ]
  },
  {
   "cell_type": "code",
   "execution_count": 2,
   "id": "august-stress",
   "metadata": {},
   "outputs": [],
   "source": [
    "###Import TensorFlow and related functions\n",
    "\n",
    "import tensorflow as tf\n",
    "\n",
    "from tensorflow.keras.preprocessing.sequence import pad_sequences"
   ]
  },
  {
   "cell_type": "markdown",
   "id": "parallel-novel",
   "metadata": {},
   "source": [
    "###Get the original dataset\n",
    "\n",
    "#We'll once again use the dataset containing Amazon and Yelp reviews.\n",
    "#https://www.kaggle.com/marklvl/sentiment-labelled-sentences-data-set"
   ]
  },
  {
   "cell_type": "code",
   "execution_count": 3,
   "id": "dying-wallpaper",
   "metadata": {},
   "outputs": [],
   "source": [
    "import pandas as pd\n",
    "\n",
    "dataset = pd.read_csv('C:/Users/fortn/anaconda3/combined_data.csv')\n",
    "\n",
    "# Just extract out sentences and labels first - we will create subwords here\n",
    "sentences = dataset['text'].tolist()\n",
    "labels = dataset['sentiment'].tolist()"
   ]
  },
  {
   "cell_type": "markdown",
   "id": "western-livestock",
   "metadata": {},
   "source": [
    "###Create a subwords dataset\n",
    "\n",
    "\"\"\"\n",
    "We can use the existing Amazon and Yelp reviews dataset with tensorflow_datasets's SubwordTextEncoder functionality. SubwordTextEncoder.build_from_corpus() will create a tokenizer for us. You could also use this functionality to get subwords from a much larger corpus of text as well, but we'll just use our existing dataset here.\n",
    "\n",
    "The Amazon and Yelp dataset we are using isn't super large, so we'll create a subword vocab_size of only the 1,000 most common words, as well as cutting off each subword to be at most 5 characters.\n",
    "\n",
    "Check out the related documentation here.\n",
    "https://www.tensorflow.org/datasets/api_docs/python/tfds/features/text/SubwordTextEncoder#build_from_corpus\n",
    "\n",
    "\"\"\""
   ]
  },
  {
   "cell_type": "code",
   "execution_count": 4,
   "id": "opposed-stylus",
   "metadata": {},
   "outputs": [],
   "source": [
    "import tensorflow_datasets as tfds\n",
    "\n",
    "vocab_size = 1000\n",
    "tokenizer = tfds.deprecated.text.SubwordTextEncoder.build_from_corpus(sentences, vocab_size, max_subword_length=5)"
   ]
  },
  {
   "cell_type": "code",
   "execution_count": 5,
   "id": "existing-cache",
   "metadata": {},
   "outputs": [
    {
     "name": "stdout",
     "output_type": "stream",
     "text": [
      "I have to jiggle the plug to get it to line up right to get decent volume.\n",
      "[4, 31, 6, 849, 162, 450, 12, 1, 600, 438, 775, 6, 175, 14, 6, 55, 213, 159, 474, 775, 6, 175, 614, 380, 295, 148, 72, 789]\n",
      "I \n",
      "have \n",
      "to \n",
      "j\n",
      "ig\n",
      "gl\n",
      "e \n",
      "the \n",
      "pl\n",
      "ug\n",
      " \n",
      "to \n",
      "get \n",
      "it \n",
      "to \n",
      "li\n",
      "ne \n",
      "up \n",
      "right\n",
      " \n",
      "to \n",
      "get \n",
      "dec\n",
      "ent \n",
      "vo\n",
      "lu\n",
      "me\n",
      ".\n"
     ]
    }
   ],
   "source": [
    "# Check that the tokenizer works appropriately\n",
    "num = 5\n",
    "print(sentences[num])\n",
    "encoded = tokenizer.encode(sentences[num])\n",
    "print(encoded)\n",
    "# Separately print out each subword, decoded\n",
    "for i in encoded:\n",
    "  print(tokenizer.decode([i]))"
   ]
  },
  {
   "cell_type": "markdown",
   "id": "daily-setting",
   "metadata": {},
   "source": [
    "###Replace sentence data with encoded subwords\n",
    "\n",
    "#Now, we'll re-create the dataset to be used for training by actually encoding each of the individual sentences. This is equivalent to text_to_sequences with the Tokenizer we used in earlier exercises."
   ]
  },
  {
   "cell_type": "code",
   "execution_count": 6,
   "id": "parliamentary-dragon",
   "metadata": {},
   "outputs": [],
   "source": [
    "for i, sentence in enumerate(sentences):\n",
    "  sentences[i] = tokenizer.encode(sentence)"
   ]
  },
  {
   "cell_type": "code",
   "execution_count": 8,
   "id": "adolescent-wages",
   "metadata": {},
   "outputs": [
    {
     "name": "stdout",
     "output_type": "stream",
     "text": [
      "[625, 677, 626, 274, 380, 633, 148, 844, 789]\n"
     ]
    }
   ],
   "source": [
    "# Check the sentences are appropriately replaced\n",
    "print(sentences[1])"
   ]
  },
  {
   "cell_type": "code",
   "execution_count": 9,
   "id": "ceramic-zambia",
   "metadata": {},
   "outputs": [],
   "source": [
    "###Final pre-processing\n",
    "\n",
    "#Before training, we still need to pad the sequences, as well as split into training and test sets.\n",
    "\n",
    "import numpy as np\n",
    "\n",
    "max_length = 50\n",
    "trunc_type='post'\n",
    "padding_type='post'\n",
    "\n",
    "# Pad all sentences\n",
    "sentences_padded = pad_sequences(sentences, maxlen=max_length, \n",
    "                                 padding=padding_type, truncating=trunc_type)\n",
    "\n",
    "# Separate out the sentences and labels into training and test sets\n",
    "training_size = int(len(sentences) * 0.8)\n",
    "\n",
    "training_sentences = sentences_padded[0:training_size]\n",
    "testing_sentences = sentences_padded[training_size:]\n",
    "training_labels = labels[0:training_size]\n",
    "testing_labels = labels[training_size:]\n",
    "\n",
    "# Make labels into numpy arrays for use with the network later\n",
    "training_labels_final = np.array(training_labels)\n",
    "testing_labels_final = np.array(testing_labels)"
   ]
  },
  {
   "cell_type": "code",
   "execution_count": 10,
   "id": "useful-enclosure",
   "metadata": {},
   "outputs": [
    {
     "name": "stdout",
     "output_type": "stream",
     "text": [
      "Model: \"sequential\"\n",
      "_________________________________________________________________\n",
      "Layer (type)                 Output Shape              Param #   \n",
      "=================================================================\n",
      "embedding (Embedding)        (None, 50, 16)            16000     \n",
      "_________________________________________________________________\n",
      "global_average_pooling1d (Gl (None, 16)                0         \n",
      "_________________________________________________________________\n",
      "dense (Dense)                (None, 6)                 102       \n",
      "_________________________________________________________________\n",
      "dense_1 (Dense)              (None, 1)                 7         \n",
      "=================================================================\n",
      "Total params: 16,109\n",
      "Trainable params: 16,109\n",
      "Non-trainable params: 0\n",
      "_________________________________________________________________\n"
     ]
    }
   ],
   "source": [
    "###Train a Sentiment Model\n",
    "\n",
    "embedding_dim = 16\n",
    "model = tf.keras.Sequential([\n",
    "    tf.keras.layers.Embedding(vocab_size, embedding_dim, input_length=max_length),\n",
    "    tf.keras.layers.GlobalAveragePooling1D(),\n",
    "    tf.keras.layers.Dense(6, activation='relu'),\n",
    "    tf.keras.layers.Dense(1, activation='sigmoid')\n",
    "])\n",
    "\n",
    "model.summary()"
   ]
  },
  {
   "cell_type": "code",
   "execution_count": 11,
   "id": "speaking-ground",
   "metadata": {},
   "outputs": [
    {
     "name": "stdout",
     "output_type": "stream",
     "text": [
      "Epoch 1/30\n",
      "50/50 [==============================] - 2s 18ms/step - loss: 0.6931 - accuracy: 0.4911 - val_loss: 0.6942 - val_accuracy: 0.4110\n",
      "Epoch 2/30\n",
      "50/50 [==============================] - 0s 4ms/step - loss: 0.6923 - accuracy: 0.5295 - val_loss: 0.6934 - val_accuracy: 0.4511\n",
      "Epoch 3/30\n",
      "50/50 [==============================] - 0s 4ms/step - loss: 0.6897 - accuracy: 0.6112 - val_loss: 0.6885 - val_accuracy: 0.6015\n",
      "Epoch 4/30\n",
      "50/50 [==============================] - 0s 4ms/step - loss: 0.6827 - accuracy: 0.7357 - val_loss: 0.6759 - val_accuracy: 0.7143\n",
      "Epoch 5/30\n",
      "50/50 [==============================] - 0s 4ms/step - loss: 0.6708 - accuracy: 0.7491 - val_loss: 0.6587 - val_accuracy: 0.7018\n",
      "Epoch 6/30\n",
      "50/50 [==============================] - 0s 4ms/step - loss: 0.6518 - accuracy: 0.7592 - val_loss: 0.6391 - val_accuracy: 0.6817\n",
      "Epoch 7/30\n",
      "50/50 [==============================] - 0s 4ms/step - loss: 0.6314 - accuracy: 0.7261 - val_loss: 0.6222 - val_accuracy: 0.7293\n",
      "Epoch 8/30\n",
      "50/50 [==============================] - 0s 4ms/step - loss: 0.6030 - accuracy: 0.7922 - val_loss: 0.6042 - val_accuracy: 0.7368\n",
      "Epoch 9/30\n",
      "50/50 [==============================] - 0s 5ms/step - loss: 0.5766 - accuracy: 0.8079 - val_loss: 0.5868 - val_accuracy: 0.7444\n",
      "Epoch 10/30\n",
      "50/50 [==============================] - 0s 4ms/step - loss: 0.5522 - accuracy: 0.7823 - val_loss: 0.5809 - val_accuracy: 0.7644\n",
      "Epoch 11/30\n",
      "50/50 [==============================] - 0s 4ms/step - loss: 0.5278 - accuracy: 0.8571 - val_loss: 0.5640 - val_accuracy: 0.7769\n",
      "Epoch 12/30\n",
      "50/50 [==============================] - 0s 5ms/step - loss: 0.5102 - accuracy: 0.8498 - val_loss: 0.5536 - val_accuracy: 0.7820\n",
      "Epoch 13/30\n",
      "50/50 [==============================] - 0s 4ms/step - loss: 0.4981 - accuracy: 0.8490 - val_loss: 0.5470 - val_accuracy: 0.7845\n",
      "Epoch 14/30\n",
      "50/50 [==============================] - 0s 5ms/step - loss: 0.4669 - accuracy: 0.8809 - val_loss: 0.5270 - val_accuracy: 0.7794\n",
      "Epoch 15/30\n",
      "50/50 [==============================] - 0s 5ms/step - loss: 0.4266 - accuracy: 0.8777 - val_loss: 0.5151 - val_accuracy: 0.7870\n",
      "Epoch 16/30\n",
      "50/50 [==============================] - 0s 5ms/step - loss: 0.3768 - accuracy: 0.8979 - val_loss: 0.5071 - val_accuracy: 0.7769\n",
      "Epoch 17/30\n",
      "50/50 [==============================] - 0s 4ms/step - loss: 0.3328 - accuracy: 0.9114 - val_loss: 0.5206 - val_accuracy: 0.7494\n",
      "Epoch 18/30\n",
      "50/50 [==============================] - 0s 4ms/step - loss: 0.3127 - accuracy: 0.9034 - val_loss: 0.5088 - val_accuracy: 0.7619\n",
      "Epoch 19/30\n",
      "50/50 [==============================] - 0s 4ms/step - loss: 0.2929 - accuracy: 0.8987 - val_loss: 0.5145 - val_accuracy: 0.7619\n",
      "Epoch 20/30\n",
      "50/50 [==============================] - 0s 4ms/step - loss: 0.2763 - accuracy: 0.9097 - val_loss: 0.5198 - val_accuracy: 0.7594\n",
      "Epoch 21/30\n",
      "50/50 [==============================] - 0s 4ms/step - loss: 0.2620 - accuracy: 0.9235 - val_loss: 0.5259 - val_accuracy: 0.7594\n",
      "Epoch 22/30\n",
      "50/50 [==============================] - 0s 4ms/step - loss: 0.2284 - accuracy: 0.9271 - val_loss: 0.5302 - val_accuracy: 0.7569\n",
      "Epoch 23/30\n",
      "50/50 [==============================] - 0s 4ms/step - loss: 0.2261 - accuracy: 0.9286 - val_loss: 0.5289 - val_accuracy: 0.7469\n",
      "Epoch 24/30\n",
      "50/50 [==============================] - 0s 3ms/step - loss: 0.2286 - accuracy: 0.9228 - val_loss: 0.5457 - val_accuracy: 0.7544\n",
      "Epoch 25/30\n",
      "50/50 [==============================] - 0s 4ms/step - loss: 0.2091 - accuracy: 0.9353 - val_loss: 0.5548 - val_accuracy: 0.7494\n",
      "Epoch 26/30\n",
      "50/50 [==============================] - 0s 4ms/step - loss: 0.1882 - accuracy: 0.9549 - val_loss: 0.5668 - val_accuracy: 0.7469\n",
      "Epoch 27/30\n",
      "50/50 [==============================] - 0s 5ms/step - loss: 0.1807 - accuracy: 0.9491 - val_loss: 0.5663 - val_accuracy: 0.7619\n",
      "Epoch 28/30\n",
      "50/50 [==============================] - 0s 4ms/step - loss: 0.1720 - accuracy: 0.9586 - val_loss: 0.5845 - val_accuracy: 0.7419\n",
      "Epoch 29/30\n",
      "50/50 [==============================] - 0s 4ms/step - loss: 0.1636 - accuracy: 0.9618 - val_loss: 0.6078 - val_accuracy: 0.7318\n",
      "Epoch 30/30\n",
      "50/50 [==============================] - 0s 5ms/step - loss: 0.1533 - accuracy: 0.9639 - val_loss: 0.6036 - val_accuracy: 0.7469\n"
     ]
    }
   ],
   "source": [
    "num_epochs = 30\n",
    "model.compile(loss='binary_crossentropy',optimizer='adam',metrics=['accuracy'])\n",
    "history = model.fit(training_sentences, training_labels_final, epochs=num_epochs, \n",
    "                    validation_data=(testing_sentences, testing_labels_final))"
   ]
  },
  {
   "cell_type": "code",
   "execution_count": 12,
   "id": "apparent-surname",
   "metadata": {},
   "outputs": [
    {
     "data": {
      "image/png": "[encoded data removed]",
      "text/plain": [
       "<Figure size 432x288 with 1 Axes>"
      ]
     },
     "metadata": {
      "needs_background": "light"
     },
     "output_type": "display_data"
    },
    {
     "data": {
      "image/png": "[encoded data removed]",
      "text/plain": [
       "<Figure size 432x288 with 1 Axes>"
      ]
     },
     "metadata": {
      "needs_background": "light"
     },
     "output_type": "display_data"
    }
   ],
   "source": [
    "###Visualize the Training Graph\n",
    "\n",
    "#We can visualize the training graph below again. Does there appear to be a difference in how validation accuracy and loss is trending compared to with full words?\n",
    "\n",
    "import matplotlib.pyplot as plt\n",
    "\n",
    "\n",
    "def plot_graphs(history, string):\n",
    "  plt.plot(history.history[string])\n",
    "  plt.plot(history.history['val_'+string])\n",
    "  plt.xlabel(\"Epochs\")\n",
    "  plt.ylabel(string)\n",
    "  plt.legend([string, 'val_'+string])\n",
    "  plt.show()\n",
    "  \n",
    "plot_graphs(history, \"accuracy\")\n",
    "plot_graphs(history, \"loss\")"
   ]
  },
  {
   "cell_type": "markdown",
   "id": "eastern-saint",
   "metadata": {},
   "source": [
    "###Get files for visualizing the network\n",
    "\n",
    "\"\"\"\n",
    "Once again, you can visualize the sentiment related to all of the subwords using the below code and by heading to http://projector.tensorflow.org/ to upload and view the data.\n",
    "\n",
    "Note that the below code does have a few small changes to handle the different way text is encoded in our dataset compared to before with the built in Tokenizer.\n",
    "\n",
    "You may get an error like \"Number of tensors (999) do not match the number of lines in metadata (992).\" As long as you load the vectors first without error and wait a few seconds after this pops up, you will be able to click outside the file load menu and still view the visualization.\n",
    "\"\"\""
   ]
  },
  {
   "cell_type": "code",
   "execution_count": 13,
   "id": "continental-bargain",
   "metadata": {},
   "outputs": [
    {
     "name": "stdout",
     "output_type": "stream",
     "text": [
      "(1000, 16)\n"
     ]
    }
   ],
   "source": [
    "# First get the weights of the embedding layer\n",
    "e = model.layers[0]\n",
    "weights = e.get_weights()[0]\n",
    "print(weights.shape) # shape: (vocab_size, embedding_dim)"
   ]
  },
  {
   "cell_type": "code",
   "execution_count": 14,
   "id": "funky-bunny",
   "metadata": {},
   "outputs": [],
   "source": [
    "import io\n",
    "\n",
    "# Write out the embedding vectors and metadata\n",
    "out_v = io.open('vecs.tsv', 'w', encoding='utf-8')\n",
    "out_m = io.open('meta.tsv', 'w', encoding='utf-8')\n",
    "for word_num in range(0, vocab_size - 1):\n",
    "  word = tokenizer.decode([word_num])\n",
    "  embeddings = weights[word_num]\n",
    "  out_m.write(word + \"\\n\")\n",
    "  out_v.write('\\t'.join([str(x) for x in embeddings]) + \"\\n\")\n",
    "out_v.close()\n",
    "out_m.close()"
   ]
  },
  {
   "cell_type": "code",
   "execution_count": 15,
   "id": "professional-treasure",
   "metadata": {},
   "outputs": [],
   "source": [
    "# Download the files\n",
    "try:\n",
    "  from google.colab import files\n",
    "except ImportError:\n",
    "  pass\n",
    "else:\n",
    "  files.download('vecs.tsv')\n",
    "  files.download('meta.tsv')"
   ]
  },
  {
   "cell_type": "markdown",
   "id": "permanent-thunder",
   "metadata": {},
   "source": [
    "###Conclusion\n",
    "\n",
    "\"\"\"\n",
    "You’ve already learned an amazing amount of material on Natural Language Processing with TensorFlow in this lesson.\n",
    "\n",
    "You started with Tokenization by:\n",
    "\n",
    "Tokenizing input text\n",
    "Creating and padding sequences\n",
    "Incorporating out of vocabulary words\n",
    "Generalizing tokenization and sequence methods to real world datasets\n",
    "From there, you moved onto Embeddings, where you:\n",
    "\n",
    "transformed tokenized sequences into embeddings\n",
    "developed a basic sentiment analysis model\n",
    "visualized the embeddings vector\n",
    "tweaked hyperparameters of the model to improve it\n",
    "and diagnosed potential issues with using pre-trained subword tokenizers when the network doesn’t have sequence context\n",
    "In the next lesson, you’ll dive into Recurrent Neural Networks, which will be able to understand the sequence of inputs, and you'll learn how to generate new text.\n",
    "\n",
    "\"\"\""
   ]
  }
 ],
 "metadata": {
  "kernelspec": {
   "display_name": "Python 3",
   "language": "python",
   "name": "python3"
  },
  "language_info": {
   "codemirror_mode": {
    "name": "ipython",
    "version": 3
   },
   "file_extension": ".py",
   "mimetype": "text/x-python",
   "name": "python",
   "nbconvert_exporter": "python",
   "pygments_lexer": "ipython3",
   "version": "3.8.5"
  }
 },
 "nbformat": 4,
 "nbformat_minor": 5
}
